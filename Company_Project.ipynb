{
  "nbformat": 4,
  "nbformat_minor": 0,
  "metadata": {
    "colab": {
      "provenance": []
    },
    "kernelspec": {
      "name": "python3",
      "display_name": "Python 3"
    },
    "language_info": {
      "name": "python"
    }
  },
  "cells": [
    {
      "cell_type": "markdown",
      "source": [
        "##***import Data***"
      ],
      "metadata": {
        "id": "kAgv0_zu21wr"
      }
    },
    {
      "cell_type": "code",
      "source": [
        "from google.colab import drive\n",
        "drive.mount('/content/drive')"
      ],
      "metadata": {
        "colab": {
          "base_uri": "https://localhost:8080/"
        },
        "id": "Vn2JPhRj0z8k",
        "outputId": "1c120fb6-c23b-4188-eaeb-cae552cbe66a"
      },
      "execution_count": 70,
      "outputs": [
        {
          "output_type": "stream",
          "name": "stdout",
          "text": [
            "Drive already mounted at /content/drive; to attempt to forcibly remount, call drive.mount(\"/content/drive\", force_remount=True).\n"
          ]
        }
      ]
    },
    {
      "cell_type": "code",
      "source": [
        "zip_file_path = \"/content/drive/MyDrive/Receipts_repository.zip\"\n"
      ],
      "metadata": {
        "id": "I7miDh4n1RYU"
      },
      "execution_count": 71,
      "outputs": []
    },
    {
      "cell_type": "code",
      "source": [
        "!cp \"{zip_file_path}\" /content/"
      ],
      "metadata": {
        "id": "a4SU_b-51rmY"
      },
      "execution_count": 72,
      "outputs": []
    },
    {
      "cell_type": "code",
      "source": [
        "%cd /content"
      ],
      "metadata": {
        "colab": {
          "base_uri": "https://localhost:8080/"
        },
        "id": "i3Y61zPA1tgg",
        "outputId": "b86ad02f-77eb-4b30-abf5-d32040c7a883"
      },
      "execution_count": 73,
      "outputs": [
        {
          "output_type": "stream",
          "name": "stdout",
          "text": [
            "/content\n"
          ]
        }
      ]
    },
    {
      "cell_type": "code",
      "source": [
        "!unzip Receipts_repository.zip"
      ],
      "metadata": {
        "id": "1H9lG9lX1zaF",
        "colab": {
          "base_uri": "https://localhost:8080/"
        },
        "outputId": "4eeb33b8-5627-4106-c03e-06d8c6bc1ea3"
      },
      "execution_count": 74,
      "outputs": [
        {
          "output_type": "stream",
          "name": "stdout",
          "text": [
            "Archive:  Receipts_repository.zip\n",
            "replace r_2.0/05-531.jpg? [y]es, [n]o, [A]ll, [N]one, [r]ename: "
          ]
        }
      ]
    },
    {
      "cell_type": "code",
      "source": [
        "import os\n",
        "print(len(os.listdir(\"/content/r_0.0\")))\n",
        "print(len(os.listdir(\"/content/r_0.1\")))\n",
        "print(len(os.listdir(\"/content/r_0.2\")))\n",
        "print(len(os.listdir(\"/content/r_0.3\")))\n",
        "print(len(os.listdir(\"/content/r_0.4\")))\n",
        "print(len(os.listdir(\"/content/r_0.5\")))\n",
        "print(len(os.listdir(\"/content/r_0.6\")))\n",
        "print(len(os.listdir(\"/content/r_0.7\")))\n",
        "print(len(os.listdir(\"/content/r_0.8\")))\n",
        "print(len(os.listdir(\"/content/r_0.9\")))\n",
        "print(len(os.listdir(\"/content/r_1.0\")))\n",
        "print(len(os.listdir(\"/content/r_1.1\")))\n",
        "print(len(os.listdir(\"/content/r_1.2\")))\n",
        "print(len(os.listdir(\"/content/r_1.3\")))\n",
        "print(len(os.listdir(\"/content/r_1.4\")))\n",
        "print(len(os.listdir(\"/content/r_1.5\")))\n",
        "print(len(os.listdir(\"/content/r_1.6\")))\n",
        "print(len(os.listdir(\"/content/r_1.7\")))\n",
        "print(len(os.listdir(\"/content/r_1.8\")))\n",
        "print(len(os.listdir(\"/content/r_1.9\")))\n",
        "print(len(os.listdir(\"/content/r_2.0\")))"
      ],
      "metadata": {
        "colab": {
          "base_uri": "https://localhost:8080/"
        },
        "id": "MvNDh1Af2Xhd",
        "outputId": "160f37c5-0cca-4301-bfa0-cc282f8a777c"
      },
      "execution_count": 76,
      "outputs": [
        {
          "output_type": "stream",
          "name": "stdout",
          "text": [
            "703\n",
            "703\n",
            "703\n",
            "703\n",
            "703\n",
            "703\n",
            "703\n",
            "703\n",
            "703\n",
            "703\n",
            "703\n",
            "703\n",
            "703\n",
            "703\n",
            "703\n",
            "703\n",
            "703\n",
            "703\n",
            "703\n",
            "703\n",
            "703\n"
          ]
        }
      ]
    },
    {
      "cell_type": "markdown",
      "source": [
        "##**Data processing**"
      ],
      "metadata": {
        "id": "PD3HVjue3h97"
      }
    },
    {
      "cell_type": "code",
      "source": [
        "import pandas as pd\n",
        "import numpy as np\n",
        "import os\n",
        "import matplotlib.pyplot as plt\n",
        "import matplotlib.image as mgimg\n",
        "import PIL.Image\n",
        "import cv2 as cv\n"
      ],
      "metadata": {
        "id": "Es9rjShw2j9T"
      },
      "execution_count": 8,
      "outputs": []
    },
    {
      "cell_type": "code",
      "source": [
        "img=mgimg.imread(\"/content/r_1.5/05-0.jpeg\")\n",
        "plt.imshow(img)\n",
        "plt.show()"
      ],
      "metadata": {
        "colab": {
          "base_uri": "https://localhost:8080/",
          "height": 435
        },
        "id": "Cd8dCqoD4a0Y",
        "outputId": "6fb601d5-acaa-453a-ff22-4980ff26d8fd"
      },
      "execution_count": 9,
      "outputs": [
        {
          "output_type": "display_data",
          "data": {
            "text/plain": [
              "<Figure size 640x480 with 1 Axes>"
            ],
            "image/png": "[encoded data removed]"
          },
          "metadata": {}
        }
      ]
    },
    {
      "cell_type": "markdown",
      "source": [
        "###***Resize_Image***"
      ],
      "metadata": {
        "id": "bjtx-KEr4xDH"
      }
    },
    {
      "cell_type": "code",
      "source": [
        "os.mkdir(\"Resize_image\")"
      ],
      "metadata": {
        "id": "w9U3kQIZ4sV3"
      },
      "execution_count": 10,
      "outputs": []
    },
    {
      "cell_type": "code",
      "source": [
        "os.mkdir(\"Resize_image/rsize_0\")"
      ],
      "metadata": {
        "id": "BTKbSk365IKv"
      },
      "execution_count": 11,
      "outputs": []
    },
    {
      "cell_type": "code",
      "source": [
        "os.mkdir(\"Resize_image/rsize_1\")\n",
        "os.mkdir(\"Resize_image/rsize_2\")\n",
        "os.mkdir(\"Resize_image/rsize_3\")\n",
        "os.mkdir(\"Resize_image/rsize_4\")\n",
        "\n",
        "os.mkdir(\"Resize_image/rsize_5\")\n",
        "os.mkdir(\"Resize_image/rsize_6\")\n",
        "os.mkdir(\"Resize_image/rsize_7\")\n",
        "os.mkdir(\"Resize_image/rsize_8\")\n",
        "\n",
        "os.mkdir(\"Resize_image/rsize_9\")\n",
        "os.mkdir(\"Resize_image/rsize_10\")\n",
        "os.mkdir(\"Resize_image/rsize_11\")\n",
        "os.mkdir(\"Resize_image/rsize_12\")\n",
        "\n",
        "os.mkdir(\"Resize_image/rsize_13\")\n",
        "os.mkdir(\"Resize_image/rsize_14\")\n",
        "os.mkdir(\"Resize_image/rsize_15\")\n",
        "os.mkdir(\"Resize_image/rsize_16\")\n",
        "\n",
        "os.mkdir(\"Resize_image/rsize_17\")\n",
        "os.mkdir(\"Resize_image/rsize_18\")\n",
        "os.mkdir(\"Resize_image/rsize_19\")\n",
        "os.mkdir(\"Resize_image/rsize_20\")\n"
      ],
      "metadata": {
        "id": "imFd6htb5TxP"
      },
      "execution_count": 12,
      "outputs": []
    },
    {
      "cell_type": "code",
      "source": [
        "original_folder = '/content/r_0.0/'\n",
        "resized_folder = '/content/Resize_image/rsize_0/'\n",
        "\n",
        "for i in range(703):\n",
        "\n",
        "  filename = os.listdir(original_folder)[i]\n",
        "  img_path = original_folder+filename\n",
        "\n",
        "  img = PIL.Image.open(img_path)\n",
        "  img = img.resize((224, 224))\n",
        "  img = img.convert('RGB')\n",
        "\n",
        "  newImgPath = resized_folder+filename\n",
        "  img.save(newImgPath)"
      ],
      "metadata": {
        "id": "oq_ZA8lG57TH"
      },
      "execution_count": 13,
      "outputs": []
    },
    {
      "cell_type": "code",
      "source": [
        "original_folder = '/content/r_0.1/'\n",
        "resized_folder = '/content/Resize_image/rsize_1/'\n",
        "\n",
        "for i in range(703):\n",
        "\n",
        "  filename = os.listdir(original_folder)[i]\n",
        "  img_path = original_folder+filename\n",
        "\n",
        "  img = PIL.Image.open(img_path)\n",
        "  img = img.resize((224, 224))\n",
        "  img = img.convert('RGB')\n",
        "\n",
        "  newImgPath = resized_folder+filename\n",
        "  img.save(newImgPath)"
      ],
      "metadata": {
        "id": "HkbwyU4d67pY"
      },
      "execution_count": 14,
      "outputs": []
    },
    {
      "cell_type": "code",
      "source": [
        "original_folder = '/content/r_0.2/'\n",
        "resized_folder = '/content/Resize_image/rsize_2/'\n",
        "\n",
        "for i in range(703):\n",
        "\n",
        "  filename = os.listdir(original_folder)[i]\n",
        "  img_path = original_folder+filename\n",
        "\n",
        "  img = PIL.Image.open(img_path)\n",
        "  img = img.resize((224, 224))\n",
        "  img = img.convert('RGB')\n",
        "\n",
        "  newImgPath = resized_folder+filename\n",
        "  img.save(newImgPath)"
      ],
      "metadata": {
        "id": "eJlHo8li76xZ"
      },
      "execution_count": 15,
      "outputs": []
    },
    {
      "cell_type": "code",
      "source": [
        "original_folder = '/content/r_0.3/'\n",
        "resized_folder = '/content/Resize_image/rsize_3/'\n",
        "\n",
        "for i in range(703):\n",
        "\n",
        "  filename = os.listdir(original_folder)[i]\n",
        "  img_path = original_folder+filename\n",
        "\n",
        "  img = PIL.Image.open(img_path)\n",
        "  img = img.resize((224, 224))\n",
        "  img = img.convert('RGB')\n",
        "\n",
        "  newImgPath = resized_folder+filename\n",
        "  img.save(newImgPath)"
      ],
      "metadata": {
        "id": "TosqRhKF8EiX"
      },
      "execution_count": 16,
      "outputs": []
    },
    {
      "cell_type": "code",
      "source": [
        "original_folder = '/content/r_0.4/'\n",
        "resized_folder = '/content/Resize_image/rsize_4/'\n",
        "\n",
        "for i in range(703):\n",
        "\n",
        "  filename = os.listdir(original_folder)[i]\n",
        "  img_path = original_folder+filename\n",
        "\n",
        "  img = PIL.Image.open(img_path)\n",
        "  img = img.resize((224, 224))\n",
        "  img = img.convert('RGB')\n",
        "\n",
        "  newImgPath = resized_folder+filename\n",
        "  img.save(newImgPath)"
      ],
      "metadata": {
        "id": "ZPcMoQGS8G6h"
      },
      "execution_count": 17,
      "outputs": []
    },
    {
      "cell_type": "code",
      "source": [
        "original_folder = '/content/r_0.5/'\n",
        "resized_folder = '/content/Resize_image/rsize_5/'\n",
        "\n",
        "for i in range(703):\n",
        "\n",
        "  filename = os.listdir(original_folder)[i]\n",
        "  img_path = original_folder+filename\n",
        "\n",
        "  img = PIL.Image.open(img_path)\n",
        "  img = img.resize((224, 224))\n",
        "  img = img.convert('RGB')\n",
        "\n",
        "  newImgPath = resized_folder+filename\n",
        "  img.save(newImgPath)"
      ],
      "metadata": {
        "id": "WNbqlnVx8Jn0"
      },
      "execution_count": 18,
      "outputs": []
    },
    {
      "cell_type": "code",
      "source": [
        "original_folder = '/content/r_0.6/'\n",
        "resized_folder = '/content/Resize_image/rsize_6/'\n",
        "\n",
        "for i in range(703):\n",
        "\n",
        "  filename = os.listdir(original_folder)[i]\n",
        "  img_path = original_folder+filename\n",
        "\n",
        "  img = PIL.Image.open(img_path)\n",
        "  img = img.resize((224, 224))\n",
        "  img = img.convert('RGB')\n",
        "\n",
        "  newImgPath = resized_folder+filename\n",
        "  img.save(newImgPath)"
      ],
      "metadata": {
        "id": "-lFjJcYU8M0I"
      },
      "execution_count": 19,
      "outputs": []
    },
    {
      "cell_type": "code",
      "source": [
        "original_folder = '/content/r_0.7/'\n",
        "resized_folder = '/content/Resize_image/rsize_7/'\n",
        "\n",
        "for i in range(703):\n",
        "\n",
        "  filename = os.listdir(original_folder)[i]\n",
        "  img_path = original_folder+filename\n",
        "\n",
        "  img = PIL.Image.open(img_path)\n",
        "  img = img.resize((224, 224))\n",
        "  img = img.convert('RGB')\n",
        "\n",
        "  newImgPath = resized_folder+filename\n",
        "  img.save(newImgPath)"
      ],
      "metadata": {
        "id": "nkRq71Ft8PNd"
      },
      "execution_count": 20,
      "outputs": []
    },
    {
      "cell_type": "code",
      "source": [
        "original_folder = '/content/r_0.8/'\n",
        "resized_folder = '/content/Resize_image/rsize_8/'\n",
        "\n",
        "for i in range(703):\n",
        "\n",
        "  filename = os.listdir(original_folder)[i]\n",
        "  img_path = original_folder+filename\n",
        "\n",
        "  img = PIL.Image.open(img_path)\n",
        "  img = img.resize((224, 224))\n",
        "  img = img.convert('RGB')\n",
        "\n",
        "  newImgPath = resized_folder+filename\n",
        "  img.save(newImgPath)"
      ],
      "metadata": {
        "id": "RgnL-ZCV8TM9"
      },
      "execution_count": 21,
      "outputs": []
    },
    {
      "cell_type": "code",
      "source": [
        "original_folder = '/content/r_0.9/'\n",
        "resized_folder = '/content/Resize_image/rsize_9/'\n",
        "\n",
        "for i in range(703):\n",
        "\n",
        "  filename = os.listdir(original_folder)[i]\n",
        "  img_path = original_folder+filename\n",
        "\n",
        "  img = PIL.Image.open(img_path)\n",
        "  img = img.resize((224, 224))\n",
        "  img = img.convert('RGB')\n",
        "\n",
        "  newImgPath = resized_folder+filename\n",
        "  img.save(newImgPath)"
      ],
      "metadata": {
        "id": "lQ48h2Ov8WqZ"
      },
      "execution_count": 22,
      "outputs": []
    },
    {
      "cell_type": "code",
      "source": [
        "original_folder = '/content/r_1.0/'\n",
        "resized_folder = '/content/Resize_image/rsize_10/'\n",
        "\n",
        "for i in range(703):\n",
        "\n",
        "  filename = os.listdir(original_folder)[i]\n",
        "  img_path = original_folder+filename\n",
        "\n",
        "  img = PIL.Image.open(img_path)\n",
        "  img = img.resize((224, 224))\n",
        "  img = img.convert('RGB')\n",
        "\n",
        "  newImgPath = resized_folder+filename\n",
        "  img.save(newImgPath)"
      ],
      "metadata": {
        "id": "JuImSm4c8clA"
      },
      "execution_count": 23,
      "outputs": []
    },
    {
      "cell_type": "code",
      "source": [
        "original_folder = '/content/r_1.1/'\n",
        "resized_folder = '/content/Resize_image/rsize_11/'\n",
        "\n",
        "for i in range(703):\n",
        "\n",
        "  filename = os.listdir(original_folder)[i]\n",
        "  img_path = original_folder+filename\n",
        "\n",
        "  img = PIL.Image.open(img_path)\n",
        "  img = img.resize((224, 224))\n",
        "  img = img.convert('RGB')\n",
        "\n",
        "  newImgPath = resized_folder+filename\n",
        "  img.save(newImgPath)"
      ],
      "metadata": {
        "id": "qW6flpwI8jDW"
      },
      "execution_count": 24,
      "outputs": []
    },
    {
      "cell_type": "code",
      "source": [
        "original_folder = '/content/r_1.2/'\n",
        "resized_folder = '/content/Resize_image/rsize_12/'\n",
        "\n",
        "for i in range(703):\n",
        "\n",
        "  filename = os.listdir(original_folder)[i]\n",
        "  img_path = original_folder+filename\n",
        "\n",
        "  img = PIL.Image.open(img_path)\n",
        "  img = img.resize((224, 224))\n",
        "  img = img.convert('RGB')\n",
        "\n",
        "  newImgPath = resized_folder+filename\n",
        "  img.save(newImgPath)"
      ],
      "metadata": {
        "id": "zI4ORPek8wEc"
      },
      "execution_count": 25,
      "outputs": []
    },
    {
      "cell_type": "code",
      "source": [
        "original_folder = '/content/r_1.3/'\n",
        "resized_folder = '/content/Resize_image/rsize_13/'\n",
        "\n",
        "for i in range(703):\n",
        "\n",
        "  filename = os.listdir(original_folder)[i]\n",
        "  img_path = original_folder+filename\n",
        "\n",
        "  img = PIL.Image.open(img_path)\n",
        "  img = img.resize((224, 224))\n",
        "  img = img.convert('RGB')\n",
        "\n",
        "  newImgPath = resized_folder+filename\n",
        "  img.save(newImgPath)"
      ],
      "metadata": {
        "id": "GFBKIiMn808S"
      },
      "execution_count": 26,
      "outputs": []
    },
    {
      "cell_type": "code",
      "source": [
        "original_folder = '/content/r_1.4/'\n",
        "resized_folder = '/content/Resize_image/rsize_14/'\n",
        "\n",
        "for i in range(703):\n",
        "\n",
        "  filename = os.listdir(original_folder)[i]\n",
        "  img_path = original_folder+filename\n",
        "\n",
        "  img = PIL.Image.open(img_path)\n",
        "  img = img.resize((224, 224))\n",
        "  img = img.convert('RGB')\n",
        "\n",
        "  newImgPath = resized_folder+filename\n",
        "  img.save(newImgPath)"
      ],
      "metadata": {
        "id": "-uGVjNkl857M"
      },
      "execution_count": 27,
      "outputs": []
    },
    {
      "cell_type": "code",
      "source": [
        "original_folder = '/content/r_1.5/'\n",
        "resized_folder = '/content/Resize_image/rsize_15/'\n",
        "\n",
        "for i in range(703):\n",
        "\n",
        "  filename = os.listdir(original_folder)[i]\n",
        "  img_path = original_folder+filename\n",
        "\n",
        "  img = PIL.Image.open(img_path)\n",
        "  img = img.resize((224, 224))\n",
        "  img = img.convert('RGB')\n",
        "\n",
        "  newImgPath = resized_folder+filename\n",
        "  img.save(newImgPath)"
      ],
      "metadata": {
        "id": "w2CIyPOB89om"
      },
      "execution_count": 28,
      "outputs": []
    },
    {
      "cell_type": "code",
      "source": [
        "original_folder = '/content/r_1.6/'\n",
        "resized_folder = '/content/Resize_image/rsize_16/'\n",
        "\n",
        "for i in range(703):\n",
        "\n",
        "  filename = os.listdir(original_folder)[i]\n",
        "  img_path = original_folder+filename\n",
        "\n",
        "  img = PIL.Image.open(img_path)\n",
        "  img = img.resize((224, 224))\n",
        "  img = img.convert('RGB')\n",
        "\n",
        "  newImgPath = resized_folder+filename\n",
        "  img.save(newImgPath)"
      ],
      "metadata": {
        "id": "iXIJLvvU9Ae6"
      },
      "execution_count": 29,
      "outputs": []
    },
    {
      "cell_type": "code",
      "source": [
        "original_folder = '/content/r_1.7/'\n",
        "resized_folder = '/content/Resize_image/rsize_17/'\n",
        "\n",
        "for i in range(703):\n",
        "\n",
        "  filename = os.listdir(original_folder)[i]\n",
        "  img_path = original_folder+filename\n",
        "\n",
        "  img = PIL.Image.open(img_path)\n",
        "  img = img.resize((224, 224))\n",
        "  img = img.convert('RGB')\n",
        "\n",
        "  newImgPath = resized_folder+filename\n",
        "  img.save(newImgPath)"
      ],
      "metadata": {
        "id": "BIkYTj3u9FXb"
      },
      "execution_count": 30,
      "outputs": []
    },
    {
      "cell_type": "code",
      "source": [
        "original_folder = '/content/r_1.8/'\n",
        "resized_folder = '/content/Resize_image/rsize_18/'\n",
        "\n",
        "for i in range(703):\n",
        "\n",
        "  filename = os.listdir(original_folder)[i]\n",
        "  img_path = original_folder+filename\n",
        "\n",
        "  img = PIL.Image.open(img_path)\n",
        "  img = img.resize((224, 224))\n",
        "  img = img.convert('RGB')\n",
        "\n",
        "  newImgPath = resized_folder+filename\n",
        "  img.save(newImgPath)"
      ],
      "metadata": {
        "id": "oAXbwuCt9HxX"
      },
      "execution_count": 31,
      "outputs": []
    },
    {
      "cell_type": "code",
      "source": [
        "original_folder = '/content/r_1.9/'\n",
        "resized_folder = '/content/Resize_image/rsize_19/'\n",
        "\n",
        "for i in range(703):\n",
        "\n",
        "  filename = os.listdir(original_folder)[i]\n",
        "  img_path = original_folder+filename\n",
        "\n",
        "  img = PIL.Image.open(img_path)\n",
        "  img = img.resize((224, 224))\n",
        "  img = img.convert('RGB')\n",
        "\n",
        "  newImgPath = resized_folder+filename\n",
        "  img.save(newImgPath)"
      ],
      "metadata": {
        "id": "5vo0sUCa9KNR"
      },
      "execution_count": 32,
      "outputs": []
    },
    {
      "cell_type": "code",
      "source": [
        "original_folder = '/content/r_2.0/'\n",
        "resized_folder = '/content/Resize_image/rsize_20/'\n",
        "\n",
        "for i in range(703):\n",
        "\n",
        "  filename = os.listdir(original_folder)[i]\n",
        "  img_path = original_folder+filename\n",
        "\n",
        "  img = PIL.Image.open(img_path)\n",
        "  img = img.resize((224, 224))\n",
        "  img = img.convert('RGB')\n",
        "\n",
        "  newImgPath = resized_folder+filename\n",
        "  img.save(newImgPath)"
      ],
      "metadata": {
        "id": "JUC2nDI39MWl"
      },
      "execution_count": 33,
      "outputs": []
    },
    {
      "cell_type": "code",
      "source": [
        "image=mgimg.imread(\"/content/Resize_image/rsize_10/05-104.jpeg\")\n",
        "plt.imshow(image)\n",
        "plt.show()"
      ],
      "metadata": {
        "colab": {
          "base_uri": "https://localhost:8080/",
          "height": 434
        },
        "id": "aN6JwdKM9vEa",
        "outputId": "4b51ce4c-6cd9-43b7-b0bb-364ef9541ec2"
      },
      "execution_count": 34,
      "outputs": [
        {
          "output_type": "display_data",
          "data": {
            "text/plain": [
              "<Figure size 640x480 with 1 Axes>"
            ],
            "image/png": "[encoded data removed]"
          },
          "metadata": {}
        }
      ]
    },
    {
      "cell_type": "code",
      "source": [
        "label=[]\n",
        "import os\n",
        "for i in os.listdir(\"/content/Resize_image/rsize_0\"):\n",
        "  label.append(0.0)"
      ],
      "metadata": {
        "id": "kSsCmTKP97cF"
      },
      "execution_count": 77,
      "outputs": []
    },
    {
      "cell_type": "code",
      "source": [
        "for i in os.listdir(\"/content/Resize_image/rsize_1\"):\n",
        "  label.append(0.1)"
      ],
      "metadata": {
        "id": "hTDkM1tP-OL9"
      },
      "execution_count": 78,
      "outputs": []
    },
    {
      "cell_type": "code",
      "source": [
        "for i in os.listdir(\"/content/Resize_image/rsize_2\"):\n",
        "  label.append(0.2)"
      ],
      "metadata": {
        "id": "PR9iQ-oh-Ub4"
      },
      "execution_count": 79,
      "outputs": []
    },
    {
      "cell_type": "code",
      "source": [
        "for i in os.listdir(\"/content/Resize_image/rsize_3\"):\n",
        "  label.append(0.3)"
      ],
      "metadata": {
        "id": "_D1kt8yz-mYb"
      },
      "execution_count": 80,
      "outputs": []
    },
    {
      "cell_type": "code",
      "source": [
        "for i in os.listdir(\"/content/Resize_image/rsize_4\"):\n",
        "  label.append(0.4)"
      ],
      "metadata": {
        "id": "Re79E-D1-o4Y"
      },
      "execution_count": 81,
      "outputs": []
    },
    {
      "cell_type": "code",
      "source": [
        "for i in os.listdir(\"/content/Resize_image/rsize_5\"):\n",
        "  label.append(0.5)"
      ],
      "metadata": {
        "id": "tfq3sk9n-sL8"
      },
      "execution_count": 82,
      "outputs": []
    },
    {
      "cell_type": "code",
      "source": [
        "for i in os.listdir(\"/content/Resize_image/rsize_6\"):\n",
        "  label.append(0.6)"
      ],
      "metadata": {
        "id": "Cmr0S9Ft-wZs"
      },
      "execution_count": 83,
      "outputs": []
    },
    {
      "cell_type": "code",
      "source": [
        "for i in os.listdir(\"/content/Resize_image/rsize_7\"):\n",
        "  label.append(0.7)"
      ],
      "metadata": {
        "id": "v_z547C_-0XE"
      },
      "execution_count": 84,
      "outputs": []
    },
    {
      "cell_type": "code",
      "source": [
        "for i in os.listdir(\"/content/Resize_image/rsize_8\"):\n",
        "  label.append(0.8)"
      ],
      "metadata": {
        "id": "X3I8Qzyj-1H8"
      },
      "execution_count": 85,
      "outputs": []
    },
    {
      "cell_type": "code",
      "source": [
        "for i in os.listdir(\"/content/Resize_image/rsize_9\"):\n",
        "  label.append(0.9)"
      ],
      "metadata": {
        "id": "3waSEA09-10j"
      },
      "execution_count": 86,
      "outputs": []
    },
    {
      "cell_type": "code",
      "source": [
        "for i in os.listdir(\"/content/Resize_image/rsize_10\"):\n",
        "  label.append(1.0)"
      ],
      "metadata": {
        "id": "yluY4oos--pQ"
      },
      "execution_count": 87,
      "outputs": []
    },
    {
      "cell_type": "code",
      "source": [
        "for i in os.listdir(\"/content/Resize_image/rsize_11\"):\n",
        "  label.append(1.1)"
      ],
      "metadata": {
        "id": "KHmuv_1W_Cp5"
      },
      "execution_count": 88,
      "outputs": []
    },
    {
      "cell_type": "code",
      "source": [
        "for i in os.listdir(\"/content/Resize_image/rsize_12\"):\n",
        "  label.append(1.2)"
      ],
      "metadata": {
        "id": "KKviTO8z_F0W"
      },
      "execution_count": 89,
      "outputs": []
    },
    {
      "cell_type": "code",
      "source": [
        "for i in os.listdir(\"/content/Resize_image/rsize_13\"):\n",
        "  label.append(1.3)"
      ],
      "metadata": {
        "id": "Av42t-dd_InY"
      },
      "execution_count": 90,
      "outputs": []
    },
    {
      "cell_type": "code",
      "source": [
        "for i in os.listdir(\"/content/Resize_image/rsize_14\"):\n",
        "  label.append(1.4)"
      ],
      "metadata": {
        "id": "jtvz1_bu_LBr"
      },
      "execution_count": 91,
      "outputs": []
    },
    {
      "cell_type": "code",
      "source": [
        "for i in os.listdir(\"/content/Resize_image/rsize_15\"):\n",
        "  label.append(1.5)"
      ],
      "metadata": {
        "id": "NQMQmudb_Np6"
      },
      "execution_count": 92,
      "outputs": []
    },
    {
      "cell_type": "code",
      "source": [
        "for i in os.listdir(\"/content/Resize_image/rsize_16\"):\n",
        "  label.append(1.6)"
      ],
      "metadata": {
        "id": "BDHJWLUc_Spq"
      },
      "execution_count": 93,
      "outputs": []
    },
    {
      "cell_type": "code",
      "source": [
        "for i in os.listdir(\"/content/Resize_image/rsize_17\"):\n",
        "  label.append(1.7)"
      ],
      "metadata": {
        "id": "LMhUZyEn_Wmg"
      },
      "execution_count": 94,
      "outputs": []
    },
    {
      "cell_type": "code",
      "source": [
        "for i in os.listdir(\"/content/Resize_image/rsize_18\"):\n",
        "  label.append(1.8)"
      ],
      "metadata": {
        "id": "21qGgcMD_ZOz"
      },
      "execution_count": 95,
      "outputs": []
    },
    {
      "cell_type": "code",
      "source": [
        "for i in os.listdir(\"/content/Resize_image/rsize_19\"):\n",
        "  label.append(1.9)"
      ],
      "metadata": {
        "id": "br3zgZwb_Z4M"
      },
      "execution_count": 96,
      "outputs": []
    },
    {
      "cell_type": "code",
      "source": [
        "for i in os.listdir(\"/content/Resize_image/rsize_20\"):\n",
        "  label.append(2.0)"
      ],
      "metadata": {
        "id": "gAcA04sV_Z80"
      },
      "execution_count": 97,
      "outputs": []
    },
    {
      "cell_type": "code",
      "source": [
        "len(label)"
      ],
      "metadata": {
        "colab": {
          "base_uri": "https://localhost:8080/"
        },
        "id": "W5QBjP9T_lsA",
        "outputId": "0a935520-bbfb-4fbb-8c2b-eed09b472e01"
      },
      "execution_count": 98,
      "outputs": [
        {
          "output_type": "execute_result",
          "data": {
            "text/plain": [
              "14763"
            ]
          },
          "metadata": {},
          "execution_count": 98
        }
      ]
    },
    {
      "cell_type": "code",
      "source": [
        "703*21"
      ],
      "metadata": {
        "colab": {
          "base_uri": "https://localhost:8080/"
        },
        "id": "7dHFzlFm_uvv",
        "outputId": "612244f7-95a9-4d73-96b8-7e120e165020"
      },
      "execution_count": 99,
      "outputs": [
        {
          "output_type": "execute_result",
          "data": {
            "text/plain": [
              "14763"
            ]
          },
          "metadata": {},
          "execution_count": 99
        }
      ]
    },
    {
      "cell_type": "code",
      "source": [
        "import numpy as np\n",
        "np.unique(label,return_counts=True)"
      ],
      "metadata": {
        "colab": {
          "base_uri": "https://localhost:8080/"
        },
        "id": "mZZyydxY_4S_",
        "outputId": "826d1b1a-4610-4827-90e7-86a73c54562e"
      },
      "execution_count": 100,
      "outputs": [
        {
          "output_type": "execute_result",
          "data": {
            "text/plain": [
              "(array([0. , 0.1, 0.2, 0.3, 0.4, 0.5, 0.6, 0.7, 0.8, 0.9, 1. , 1.1, 1.2,\n",
              "        1.3, 1.4, 1.5, 1.6, 1.7, 1.8, 1.9, 2. ]),\n",
              " array([703, 703, 703, 703, 703, 703, 703, 703, 703, 703, 703, 703, 703,\n",
              "        703, 703, 703, 703, 703, 703, 703, 703]))"
            ]
          },
          "metadata": {},
          "execution_count": 100
        }
      ]
    },
    {
      "cell_type": "code",
      "source": [
        "import cv2 as cv\n",
        "import glob\n",
        "image_directory = '/content/Resize_image/rsize_0/'\n",
        "image_extension = ['png', 'jpg','jpeg']\n",
        "\n",
        "files = []\n",
        "\n",
        "[files.extend(glob.glob(image_directory + '*.' + e)) for e in image_extension]\n",
        "\n",
        "pix_0 = np.asarray([cv.imread(file) for file in files])\n",
        "print(type(pix_0))\n"
      ],
      "metadata": {
        "id": "1uKpjovD_6IL",
        "colab": {
          "base_uri": "https://localhost:8080/"
        },
        "outputId": "21b01d51-f2de-40bc-f505-963779eabd1a"
      },
      "execution_count": 103,
      "outputs": [
        {
          "output_type": "stream",
          "name": "stdout",
          "text": [
            "<class 'numpy.ndarray'>\n"
          ]
        }
      ]
    },
    {
      "cell_type": "code",
      "source": [
        "file_path = 'array_data0.npy'\n",
        "\n",
        "# Save the NumPy array to the specified file\n",
        "np.save(file_path, pix_0)"
      ],
      "metadata": {
        "id": "JI1MGd-Xbg4b"
      },
      "execution_count": 106,
      "outputs": []
    },
    {
      "cell_type": "code",
      "source": [
        "import glob\n",
        "image_directory = '/content/Resize_image/rsize_1/'\n",
        "image_extension = ['png', 'jpg','jpeg']\n",
        "\n",
        "files = []\n",
        "\n",
        "[files.extend(glob.glob(image_directory + '*.' + e)) for e in image_extension]\n",
        "\n",
        "pix_1 = np.asarray([cv.imread(file) for file in files])\n"
      ],
      "metadata": {
        "id": "P_BCoOz8AXH-"
      },
      "execution_count": 26,
      "outputs": []
    },
    {
      "cell_type": "code",
      "source": [
        "file_path = 'array_data1.npy'\n",
        "\n",
        "# Save the NumPy array to the specified file\n",
        "np.save(file_path, pix_1)"
      ],
      "metadata": {
        "id": "iwMFBWeNb58o"
      },
      "execution_count": 107,
      "outputs": []
    },
    {
      "cell_type": "code",
      "source": [
        "import glob\n",
        "image_directory = '/content/Resize_image/rsize_2/'\n",
        "image_extension = ['png', 'jpg','jpeg']\n",
        "\n",
        "files = []\n",
        "\n",
        "[files.extend(glob.glob(image_directory + '*.' + e)) for e in image_extension]\n",
        "\n",
        "pix_2 = np.asarray([cv.imread(file) for file in files])\n"
      ],
      "metadata": {
        "id": "ff5MhUCFAhVl"
      },
      "execution_count": 27,
      "outputs": []
    },
    {
      "cell_type": "code",
      "source": [
        "file_path = 'array_data2.npy'\n",
        "\n",
        "# Save the NumPy array to the specified file\n",
        "np.save(file_path, pix_2)"
      ],
      "metadata": {
        "id": "kI_ABQjMb-iF"
      },
      "execution_count": 108,
      "outputs": []
    },
    {
      "cell_type": "code",
      "source": [
        "import glob\n",
        "image_directory = '/content/Resize_image/rsize_3/'\n",
        "image_extension = ['png', 'jpg','jpeg']\n",
        "\n",
        "files = []\n",
        "\n",
        "[files.extend(glob.glob(image_directory + '*.' + e)) for e in image_extension]\n",
        "\n",
        "pix_3 = np.asarray([cv.imread(file) for file in files])\n"
      ],
      "metadata": {
        "id": "ErOK4QUIAmab"
      },
      "execution_count": 28,
      "outputs": []
    },
    {
      "cell_type": "code",
      "source": [
        "file_path = 'array_data3.npy'\n",
        "\n",
        "# Save the NumPy array to the specified file\n",
        "np.save(file_path, pix_3)"
      ],
      "metadata": {
        "id": "fBFMTKLlc7CT"
      },
      "execution_count": 109,
      "outputs": []
    },
    {
      "cell_type": "code",
      "source": [
        "import glob\n",
        "image_directory = '/content/Resize_image/rsize_4/'\n",
        "image_extension = ['png', 'jpg','jpeg']\n",
        "\n",
        "files = []\n",
        "\n",
        "[files.extend(glob.glob(image_directory + '*.' + e)) for e in image_extension]\n",
        "\n",
        "pix_4 = np.asarray([cv.imread(file) for file in files])\n"
      ],
      "metadata": {
        "id": "nlMBGa-9Aq8l"
      },
      "execution_count": 29,
      "outputs": []
    },
    {
      "cell_type": "code",
      "source": [
        "file_path = 'array_data4.npy'\n",
        "\n",
        "# Save the NumPy array to the specified file\n",
        "np.save(file_path, pix_4)"
      ],
      "metadata": {
        "id": "pH3tssF_c-ED"
      },
      "execution_count": 110,
      "outputs": []
    },
    {
      "cell_type": "code",
      "source": [
        "import glob\n",
        "image_directory = '/content/Resize_image/rsize_5/'\n",
        "image_extension = ['png', 'jpg','jpeg']\n",
        "\n",
        "files = []\n",
        "\n",
        "[files.extend(glob.glob(image_directory + '*.' + e)) for e in image_extension]\n",
        "\n",
        "pix_5 = np.asarray([cv.imread(file) for file in files])\n"
      ],
      "metadata": {
        "id": "EjIeULPUAtva"
      },
      "execution_count": 30,
      "outputs": []
    },
    {
      "cell_type": "code",
      "source": [
        "file_path = 'array_data5.npy'\n",
        "\n",
        "# Save the NumPy array to the specified file\n",
        "np.save(file_path, pix_5)"
      ],
      "metadata": {
        "id": "bpBTipBtdBwJ"
      },
      "execution_count": 111,
      "outputs": []
    },
    {
      "cell_type": "code",
      "source": [
        "import glob\n",
        "image_directory = '/content/Resize_image/rsize_6/'\n",
        "image_extension = ['png', 'jpg','jpeg']\n",
        "\n",
        "files = []\n",
        "\n",
        "[files.extend(glob.glob(image_directory + '*.' + e)) for e in image_extension]\n",
        "\n",
        "pix_6 = np.asarray([cv.imread(file) for file in files])\n"
      ],
      "metadata": {
        "id": "e6lNhyY_AwLs"
      },
      "execution_count": 31,
      "outputs": []
    },
    {
      "cell_type": "code",
      "source": [
        "file_path = 'array_data6.npy'\n",
        "\n",
        "# Save the NumPy array to the specified file\n",
        "np.save(file_path, pix_6)"
      ],
      "metadata": {
        "id": "cOBGkyGadF5T"
      },
      "execution_count": 112,
      "outputs": []
    },
    {
      "cell_type": "code",
      "source": [
        "import glob\n",
        "image_directory = '/content/Resize_image/rsize_7/'\n",
        "image_extension = ['png', 'jpg','jpeg']\n",
        "\n",
        "files = []\n",
        "\n",
        "[files.extend(glob.glob(image_directory + '*.' + e)) for e in image_extension]\n",
        "\n",
        "pix_7 = np.asarray([cv.imread(file) for file in files])\n"
      ],
      "metadata": {
        "id": "cLfg3-LsAxHg"
      },
      "execution_count": 32,
      "outputs": []
    },
    {
      "cell_type": "code",
      "source": [
        "file_path = 'array_data7.npy'\n",
        "\n",
        "# Save the NumPy array to the specified file\n",
        "np.save(file_path, pix_7)"
      ],
      "metadata": {
        "id": "8dbivBC1dLHu"
      },
      "execution_count": 113,
      "outputs": []
    },
    {
      "cell_type": "code",
      "source": [
        "import glob\n",
        "image_directory = '/content/Resize_image/rsize_8/'\n",
        "image_extension = ['png', 'jpg','jpeg']\n",
        "\n",
        "files = []\n",
        "\n",
        "[files.extend(glob.glob(image_directory + '*.' + e)) for e in image_extension]\n",
        "\n",
        "pix_8 = np.asarray([cv.imread(file) for file in files])\n"
      ],
      "metadata": {
        "id": "lIBV0xI0A6dO"
      },
      "execution_count": 33,
      "outputs": []
    },
    {
      "cell_type": "code",
      "source": [
        "file_path = 'array_data8.npy'\n",
        "\n",
        "# Save the NumPy array to the specified file\n",
        "np.save(file_path, pix_8)"
      ],
      "metadata": {
        "id": "sarZMhgGdOR8"
      },
      "execution_count": 114,
      "outputs": []
    },
    {
      "cell_type": "code",
      "source": [
        "import glob\n",
        "image_directory = '/content/Resize_image/rsize_9/'\n",
        "image_extension = ['png', 'jpg','jpeg']\n",
        "\n",
        "files = []\n",
        "\n",
        "[files.extend(glob.glob(image_directory + '*.' + e)) for e in image_extension]\n",
        "\n",
        "pix_9 = np.asarray([cv.imread(file) for file in files])\n"
      ],
      "metadata": {
        "id": "Q2Dkn_9WBAoV"
      },
      "execution_count": 34,
      "outputs": []
    },
    {
      "cell_type": "code",
      "source": [
        "file_path = 'array_data9.npy'\n",
        "\n",
        "# Save the NumPy array to the specified file\n",
        "np.save(file_path, pix_9)"
      ],
      "metadata": {
        "id": "aMEfRJt0dRlE"
      },
      "execution_count": 115,
      "outputs": []
    },
    {
      "cell_type": "code",
      "source": [
        "import glob\n",
        "image_directory = '/content/Resize_image/rsize_10/'\n",
        "image_extension = ['png', 'jpg','jpeg']\n",
        "\n",
        "files = []\n",
        "\n",
        "[files.extend(glob.glob(image_directory + '*.' + e)) for e in image_extension]\n",
        "\n",
        "pix_10 = np.asarray([cv.imread(file) for file in files])\n"
      ],
      "metadata": {
        "id": "_ZgIzYCmBBjR"
      },
      "execution_count": 35,
      "outputs": []
    },
    {
      "cell_type": "code",
      "source": [
        "file_path = 'array_data10.npy'\n",
        "\n",
        "# Save the NumPy array to the specified file\n",
        "np.save(file_path, pix_10)"
      ],
      "metadata": {
        "id": "UWg9ChOwdV0b"
      },
      "execution_count": 116,
      "outputs": []
    },
    {
      "cell_type": "code",
      "source": [
        "import glob\n",
        "image_directory = '/content/Resize_image/rsize_11/'\n",
        "image_extension = ['png', 'jpg','jpeg']\n",
        "\n",
        "files = []\n",
        "\n",
        "[files.extend(glob.glob(image_directory + '*.' + e)) for e in image_extension]\n",
        "\n",
        "pix_11 = np.asarray([cv.imread(file) for file in files])\n"
      ],
      "metadata": {
        "id": "ptK-TWU2BCdz"
      },
      "execution_count": 36,
      "outputs": []
    },
    {
      "cell_type": "code",
      "source": [
        "file_path = 'array_data11.npy'\n",
        "\n",
        "# Save the NumPy array to the specified file\n",
        "np.save(file_path, pix_11)"
      ],
      "metadata": {
        "id": "-ddteS38dYMb"
      },
      "execution_count": 117,
      "outputs": []
    },
    {
      "cell_type": "code",
      "source": [
        "import glob\n",
        "image_directory = '/content/Resize_image/rsize_12/'\n",
        "image_extension = ['png', 'jpg','jpeg']\n",
        "\n",
        "files = []\n",
        "\n",
        "[files.extend(glob.glob(image_directory + '*.' + e)) for e in image_extension]\n",
        "\n",
        "pix_12 = np.asarray([cv.imread(file) for file in files])\n"
      ],
      "metadata": {
        "id": "e5i6AvsmBPPV"
      },
      "execution_count": 37,
      "outputs": []
    },
    {
      "cell_type": "code",
      "source": [
        "file_path = 'array_data12.npy'\n",
        "\n",
        "# Save the NumPy array to the specified file\n",
        "np.save(file_path, pix_12)"
      ],
      "metadata": {
        "id": "xix3sNsHda5e"
      },
      "execution_count": 118,
      "outputs": []
    },
    {
      "cell_type": "code",
      "source": [
        "import glob\n",
        "image_directory = '/content/Resize_image/rsize_13/'\n",
        "image_extension = ['png', 'jpg','jpeg']\n",
        "\n",
        "files = []\n",
        "\n",
        "[files.extend(glob.glob(image_directory + '*.' + e)) for e in image_extension]\n",
        "\n",
        "pix_13 = np.asarray([cv.imread(file) for file in files])\n"
      ],
      "metadata": {
        "id": "MWbEKbq_BSCK"
      },
      "execution_count": 38,
      "outputs": []
    },
    {
      "cell_type": "code",
      "source": [
        "file_path = 'array_data13.npy'\n",
        "\n",
        "# Save the NumPy array to the specified file\n",
        "np.save(file_path, pix_13)"
      ],
      "metadata": {
        "id": "aftGKM3-dfBA"
      },
      "execution_count": 119,
      "outputs": []
    },
    {
      "cell_type": "code",
      "source": [
        "import glob\n",
        "image_directory = '/content/Resize_image/rsize_14/'\n",
        "image_extension = ['png', 'jpg','jpeg']\n",
        "\n",
        "files = []\n",
        "\n",
        "[files.extend(glob.glob(image_directory + '*.' + e)) for e in image_extension]\n",
        "\n",
        "pix_14 = np.asarray([cv.imread(file) for file in files])\n"
      ],
      "metadata": {
        "id": "w2f-xR4LBTKH"
      },
      "execution_count": 39,
      "outputs": []
    },
    {
      "cell_type": "code",
      "source": [
        "file_path = 'array_data14.npy'\n",
        "\n",
        "# Save the NumPy array to the specified file\n",
        "np.save(file_path, pix_14)"
      ],
      "metadata": {
        "id": "uAPiP18Ydit1"
      },
      "execution_count": 120,
      "outputs": []
    },
    {
      "cell_type": "code",
      "source": [
        "import glob\n",
        "image_directory = '/content/Resize_image/rsize_15/'\n",
        "image_extension = ['png', 'jpg','jpeg']\n",
        "\n",
        "files = []\n",
        "\n",
        "[files.extend(glob.glob(image_directory + '*.' + e)) for e in image_extension]\n",
        "\n",
        "pix_15 = np.asarray([cv.imread(file) for file in files])\n"
      ],
      "metadata": {
        "id": "rpR9HJpHBUho"
      },
      "execution_count": 40,
      "outputs": []
    },
    {
      "cell_type": "code",
      "source": [
        "file_path = 'array_data15.npy'\n",
        "\n",
        "# Save the NumPy array to the specified file\n",
        "np.save(file_path, pix_15)"
      ],
      "metadata": {
        "id": "-y0TvBCFdrb5"
      },
      "execution_count": 121,
      "outputs": []
    },
    {
      "cell_type": "code",
      "source": [
        "import glob\n",
        "image_directory = '/content/Resize_image/rsize_16/'\n",
        "image_extension = ['png', 'jpg','jpeg']\n",
        "\n",
        "files = []\n",
        "\n",
        "[files.extend(glob.glob(image_directory + '*.' + e)) for e in image_extension]\n",
        "\n",
        "pix_16 = np.asarray([cv.imread(file) for file in files])\n"
      ],
      "metadata": {
        "id": "R4V3LkCbBsQr"
      },
      "execution_count": 41,
      "outputs": []
    },
    {
      "cell_type": "code",
      "source": [
        "file_path = 'array_data16.npy'\n",
        "\n",
        "# Save the NumPy array to the specified file\n",
        "np.save(file_path, pix_16)"
      ],
      "metadata": {
        "id": "O9haRTBXdvnP"
      },
      "execution_count": 122,
      "outputs": []
    },
    {
      "cell_type": "code",
      "source": [
        "import glob\n",
        "image_directory = '/content/Resize_image/rsize_17/'\n",
        "image_extension = ['png', 'jpg','jpeg']\n",
        "\n",
        "files = []\n",
        "\n",
        "[files.extend(glob.glob(image_directory + '*.' + e)) for e in image_extension]\n",
        "\n",
        "pix_17 = np.asarray([cv.imread(file) for file in files])\n"
      ],
      "metadata": {
        "id": "VqGzU2PSBvB5"
      },
      "execution_count": 42,
      "outputs": []
    },
    {
      "cell_type": "code",
      "source": [
        "file_path = 'array_data17.npy'\n",
        "\n",
        "# Save the NumPy array to the specified file\n",
        "np.save(file_path, pix_17)"
      ],
      "metadata": {
        "id": "KJZunjMUdyyo"
      },
      "execution_count": 123,
      "outputs": []
    },
    {
      "cell_type": "code",
      "source": [
        "import glob\n",
        "image_directory = '/content/Resize_image/rsize_18/'\n",
        "image_extension = ['png', 'jpg','jpeg']\n",
        "\n",
        "files = []\n",
        "\n",
        "[files.extend(glob.glob(image_directory + '*.' + e)) for e in image_extension]\n",
        "\n",
        "pix_18 = np.asarray([cv.imread(file) for file in files])\n"
      ],
      "metadata": {
        "id": "OWuaki1dBye4"
      },
      "execution_count": 43,
      "outputs": []
    },
    {
      "cell_type": "code",
      "source": [
        "file_path = 'array_data18.npy'\n",
        "\n",
        "# Save the NumPy array to the specified file\n",
        "np.save(file_path, pix_18)"
      ],
      "metadata": {
        "id": "2Xd5uRwad2go"
      },
      "execution_count": 124,
      "outputs": []
    },
    {
      "cell_type": "code",
      "source": [
        "import glob\n",
        "image_directory = '/content/Resize_image/rsize_19/'\n",
        "image_extension = ['png', 'jpg','jpeg']\n",
        "\n",
        "files = []\n",
        "\n",
        "[files.extend(glob.glob(image_directory + '*.' + e)) for e in image_extension]\n",
        "\n",
        "pix_19 = np.asarray([cv.imread(file) for file in files])\n"
      ],
      "metadata": {
        "id": "2cr0IQVVB00t"
      },
      "execution_count": 44,
      "outputs": []
    },
    {
      "cell_type": "code",
      "source": [
        "file_path = 'array_data19.npy'\n",
        "\n",
        "# Save the NumPy array to the specified file\n",
        "np.save(file_path, pix_19)"
      ],
      "metadata": {
        "id": "9I4Du6bEd74z"
      },
      "execution_count": 125,
      "outputs": []
    },
    {
      "cell_type": "code",
      "source": [
        "import glob\n",
        "image_directory = '/content/Resize_image/rsize_20/'\n",
        "image_extension = ['png', 'jpg','jpeg']\n",
        "\n",
        "files = []\n",
        "\n",
        "[files.extend(glob.glob(image_directory + '*.' + e)) for e in image_extension]\n",
        "\n",
        "pix_20 = np.asarray([cv.imread(file) for file in files])\n"
      ],
      "metadata": {
        "id": "Tg2qtdJYB3OG"
      },
      "execution_count": 45,
      "outputs": []
    },
    {
      "cell_type": "code",
      "source": [
        "file_path = 'array_data20.npy'\n",
        "\n",
        "# Save the NumPy array to the specified file\n",
        "np.save(file_path, pix_20)"
      ],
      "metadata": {
        "id": "5INCdya-d_wm"
      },
      "execution_count": 126,
      "outputs": []
    },
    {
      "cell_type": "code",
      "source": [
        "pix_20.shape"
      ],
      "metadata": {
        "id": "4RX1vlo5Cf1a",
        "colab": {
          "base_uri": "https://localhost:8080/"
        },
        "outputId": "f716fa76-bdda-4b71-dbdb-bccf315997f7"
      },
      "execution_count": 46,
      "outputs": [
        {
          "output_type": "execute_result",
          "data": {
            "text/plain": [
              "(703, 224, 224, 3)"
            ]
          },
          "metadata": {},
          "execution_count": 46
        }
      ]
    },
    {
      "cell_type": "code",
      "source": [
        "label=np.asarray(label)"
      ],
      "metadata": {
        "id": "envPbz8SCzEE"
      },
      "execution_count": 47,
      "outputs": []
    },
    {
      "cell_type": "code",
      "source": [
        "result_array = []\n",
        "result_array.extend(pix_0)\n",
        "result_array.extend(pix_1)\n",
        "result_array.extend(pix_2)\n",
        "result_array.extend(pix_3)\n",
        "result_array.extend(pix_4)\n",
        "result_array.extend(pix_5)\n",
        "result_array.extend(pix_6)\n",
        "\n",
        "result_array.extend(pix_7)\n",
        "result_array.extend(pix_8)\n",
        "result_array.extend(pix_9)\n",
        "result_array.extend(pix_10)\n",
        "result_array.extend(pix_11)\n",
        "result_array.extend(pix_12)\n",
        "result_array.extend(pix_13)\n",
        "result_array.extend(pix_14)\n",
        "result_array.extend(pix_15)\n",
        "result_array.extend(pix_16)\n",
        "result_array.extend(pix_17)\n",
        "\n",
        "result_array.extend(pix_18)\n",
        "result_array.extend(pix_19)\n",
        "result_array.extend(pix_20)\n"
      ],
      "metadata": {
        "id": "PzKC5T2fDALZ"
      },
      "execution_count": 48,
      "outputs": []
    },
    {
      "cell_type": "code",
      "source": [
        "result_array=np.asarray(result_array)"
      ],
      "metadata": {
        "id": "qXsiGd_CEJw_"
      },
      "execution_count": 49,
      "outputs": []
    },
    {
      "cell_type": "code",
      "source": [
        "result_array.shape"
      ],
      "metadata": {
        "id": "_KNfKWz7EM-w",
        "colab": {
          "base_uri": "https://localhost:8080/"
        },
        "outputId": "b7dee288-5943-4409-dced-9f1332868999"
      },
      "execution_count": 50,
      "outputs": [
        {
          "output_type": "execute_result",
          "data": {
            "text/plain": [
              "(14763, 224, 224, 3)"
            ]
          },
          "metadata": {},
          "execution_count": 50
        }
      ]
    },
    {
      "cell_type": "code",
      "source": [
        "result_array[:5000]=result_array[:5000]/255"
      ],
      "metadata": {
        "id": "4mXfk32-GJwx"
      },
      "execution_count": 51,
      "outputs": []
    },
    {
      "cell_type": "code",
      "source": [
        "result_array[5000:10000]=result_array[5000:10000]/255"
      ],
      "metadata": {
        "id": "QjirwFL7GbgQ"
      },
      "execution_count": 52,
      "outputs": []
    },
    {
      "cell_type": "code",
      "source": [
        "result_array[10000:14764]=result_array[10000:14764]/255"
      ],
      "metadata": {
        "id": "CkXQcJV5Gv2I"
      },
      "execution_count": 53,
      "outputs": []
    },
    {
      "cell_type": "markdown",
      "source": [
        "##***Train_Test_Split***"
      ],
      "metadata": {
        "id": "V9gpJvydC50W"
      }
    },
    {
      "cell_type": "code",
      "source": [
        "from sklearn.model_selection import train_test_split\n",
        "x_train,x_test,y_train,y_test=train_test_split(result_array,label,test_size=0.2,random_state=42)"
      ],
      "metadata": {
        "id": "lYNmRG4EFLYK"
      },
      "execution_count": 54,
      "outputs": []
    },
    {
      "cell_type": "code",
      "source": [
        "x_train.shape"
      ],
      "metadata": {
        "id": "_fBKo8t4FPWq",
        "colab": {
          "base_uri": "https://localhost:8080/"
        },
        "outputId": "d99c541e-345d-4004-b439-00b76220b0ab"
      },
      "execution_count": 55,
      "outputs": [
        {
          "output_type": "execute_result",
          "data": {
            "text/plain": [
              "(11810, 224, 224, 3)"
            ]
          },
          "metadata": {},
          "execution_count": 55
        }
      ]
    },
    {
      "cell_type": "code",
      "source": [
        "x_test.shape"
      ],
      "metadata": {
        "id": "uXw3uQqbFbFB",
        "colab": {
          "base_uri": "https://localhost:8080/"
        },
        "outputId": "2b040cd7-ddce-4ca9-a5b2-7bf2994fb272"
      },
      "execution_count": 56,
      "outputs": [
        {
          "output_type": "execute_result",
          "data": {
            "text/plain": [
              "(2953, 224, 224, 3)"
            ]
          },
          "metadata": {},
          "execution_count": 56
        }
      ]
    },
    {
      "cell_type": "code",
      "source": [
        "np.max(x_train)"
      ],
      "metadata": {
        "id": "vJqRAjILPKQx",
        "colab": {
          "base_uri": "https://localhost:8080/"
        },
        "outputId": "55726c06-8887-4662-97b2-90f6939fbcd3"
      },
      "execution_count": 57,
      "outputs": [
        {
          "output_type": "execute_result",
          "data": {
            "text/plain": [
              "1"
            ]
          },
          "metadata": {},
          "execution_count": 57
        }
      ]
    },
    {
      "cell_type": "code",
      "source": [
        "y_train.shape"
      ],
      "metadata": {
        "id": "AJ0sOORgFSFT",
        "colab": {
          "base_uri": "https://localhost:8080/"
        },
        "outputId": "9fe53b91-6d3f-47cc-b6e5-367f76ee100a"
      },
      "execution_count": 58,
      "outputs": [
        {
          "output_type": "execute_result",
          "data": {
            "text/plain": [
              "(11810,)"
            ]
          },
          "metadata": {},
          "execution_count": 58
        }
      ]
    },
    {
      "cell_type": "code",
      "source": [
        "np.unique(y_train,return_counts=True)"
      ],
      "metadata": {
        "id": "x6j9ncNLFiKW",
        "colab": {
          "base_uri": "https://localhost:8080/"
        },
        "outputId": "ceabaab4-a222-4da0-c45f-2563f752c618"
      },
      "execution_count": 59,
      "outputs": [
        {
          "output_type": "execute_result",
          "data": {
            "text/plain": [
              "(array([0. , 0.1, 0.2, 0.3, 0.4, 0.5, 0.6, 0.7, 0.8, 0.9, 1. , 1.1, 1.2,\n",
              "        1.3, 1.4, 1.5, 1.6, 1.7, 1.8, 1.9, 2. ]),\n",
              " array([548, 568, 563, 557, 550, 554, 562, 579, 558, 570, 562, 569, 576,\n",
              "        563, 546, 558, 546, 574, 583, 566, 558]))"
            ]
          },
          "metadata": {},
          "execution_count": 59
        }
      ]
    },
    {
      "cell_type": "markdown",
      "source": [
        "##***NN***"
      ],
      "metadata": {
        "id": "bNtsJnElHRez"
      }
    },
    {
      "cell_type": "code",
      "source": [
        "from tensorflow import keras"
      ],
      "metadata": {
        "id": "TMAmiDvyHO17"
      },
      "execution_count": null,
      "outputs": []
    },
    {
      "cell_type": "code",
      "source": [
        "model=keras.models.Sequential()\n",
        "model.add(keras.layers.Flatten(input_shape=(224,224,3)))\n",
        "model.add(keras.layers.Dense(300,activation='relu'))\n",
        "model.add(keras.layers.Dense(100,activation='relu'))\n",
        "model.add(keras.layers.Dense(50,activation='relu'))\n",
        "model.add(keras.layers.Dense(21,activation='softmax'))\n",
        "model.summary()"
      ],
      "metadata": {
        "id": "slzv2hvhHWov",
        "colab": {
          "base_uri": "https://localhost:8080/"
        },
        "outputId": "a0273ec5-76f4-4bfb-b08b-0f742d705a0d"
      },
      "execution_count": null,
      "outputs": [
        {
          "output_type": "stream",
          "name": "stdout",
          "text": [
            "Model: \"sequential\"\n",
            "_________________________________________________________________\n",
            " Layer (type)                Output Shape              Param #   \n",
            "=================================================================\n",
            " flatten (Flatten)           (None, 150528)            0         \n",
            "                                                                 \n",
            " dense (Dense)               (None, 300)               45158700  \n",
            "                                                                 \n",
            " dense_1 (Dense)             (None, 100)               30100     \n",
            "                                                                 \n",
            " dense_2 (Dense)             (None, 50)                5050      \n",
            "                                                                 \n",
            " dense_3 (Dense)             (None, 21)                1071      \n",
            "                                                                 \n",
            "=================================================================\n",
            "Total params: 45,194,921\n",
            "Trainable params: 45,194,921\n",
            "Non-trainable params: 0\n",
            "_________________________________________________________________\n"
          ]
        }
      ]
    },
    {
      "cell_type": "code",
      "source": [
        "model.compile(optimizer=\"Adam\",loss=\"sparse_categorical_crossentropy\",metrics = ['acc'])"
      ],
      "metadata": {
        "id": "C3RBCZWlHdHh"
      },
      "execution_count": null,
      "outputs": []
    },
    {
      "cell_type": "code",
      "source": [
        "model.fit(x_train,y_train,epochs=10)"
      ],
      "metadata": {
        "id": "LxTFvv59HhT-",
        "colab": {
          "base_uri": "https://localhost:8080/",
          "height": 363
        },
        "outputId": "3ffbd023-d3b5-4041-a161-deaf1f79c3c7"
      },
      "execution_count": null,
      "outputs": [
        {
          "output_type": "stream",
          "name": "stdout",
          "text": [
            "Epoch 1/10\n",
            "  3/370 [..............................] - ETA: 4:44 - loss: 3.0145 - acc: 0.0208"
          ]
        },
        {
          "output_type": "error",
          "ename": "KeyboardInterrupt",
          "evalue": "ignored",
          "traceback": [
            "\u001b[0;31m---------------------------------------------------------------------------\u001b[0m",
            "\u001b[0;31mKeyboardInterrupt\u001b[0m                         Traceback (most recent call last)",
            "\u001b[0;32m<ipython-input-63-256362a91395>\u001b[0m in \u001b[0;36m<cell line: 1>\u001b[0;34m()\u001b[0m\n\u001b[0;32m----> 1\u001b[0;31m \u001b[0mmodel\u001b[0m\u001b[0;34m.\u001b[0m\u001b[0mfit\u001b[0m\u001b[0;34m(\u001b[0m\u001b[0mx_train\u001b[0m\u001b[0;34m,\u001b[0m\u001b[0my_train\u001b[0m\u001b[0;34m,\u001b[0m\u001b[0mepochs\u001b[0m\u001b[0;34m=\u001b[0m\u001b[0;36m10\u001b[0m\u001b[0;34m)\u001b[0m\u001b[0;34m\u001b[0m\u001b[0;34m\u001b[0m\u001b[0m\n\u001b[0m",
            "\u001b[0;32m/usr/local/lib/python3.10/dist-packages/keras/utils/traceback_utils.py\u001b[0m in \u001b[0;36merror_handler\u001b[0;34m(*args, **kwargs)\u001b[0m\n\u001b[1;32m     63\u001b[0m         \u001b[0mfiltered_tb\u001b[0m \u001b[0;34m=\u001b[0m \u001b[0;32mNone\u001b[0m\u001b[0;34m\u001b[0m\u001b[0;34m\u001b[0m\u001b[0m\n\u001b[1;32m     64\u001b[0m         \u001b[0;32mtry\u001b[0m\u001b[0;34m:\u001b[0m\u001b[0;34m\u001b[0m\u001b[0;34m\u001b[0m\u001b[0m\n\u001b[0;32m---> 65\u001b[0;31m             \u001b[0;32mreturn\u001b[0m \u001b[0mfn\u001b[0m\u001b[0;34m(\u001b[0m\u001b[0;34m*\u001b[0m\u001b[0margs\u001b[0m\u001b[0;34m,\u001b[0m \u001b[0;34m**\u001b[0m\u001b[0mkwargs\u001b[0m\u001b[0;34m)\u001b[0m\u001b[0;34m\u001b[0m\u001b[0;34m\u001b[0m\u001b[0m\n\u001b[0m\u001b[1;32m     66\u001b[0m         \u001b[0;32mexcept\u001b[0m \u001b[0mException\u001b[0m \u001b[0;32mas\u001b[0m \u001b[0me\u001b[0m\u001b[0;34m:\u001b[0m\u001b[0;34m\u001b[0m\u001b[0;34m\u001b[0m\u001b[0m\n\u001b[1;32m     67\u001b[0m             \u001b[0mfiltered_tb\u001b[0m \u001b[0;34m=\u001b[0m \u001b[0m_process_traceback_frames\u001b[0m\u001b[0;34m(\u001b[0m\u001b[0me\u001b[0m\u001b[0;34m.\u001b[0m\u001b[0m__traceback__\u001b[0m\u001b[0;34m)\u001b[0m\u001b[0;34m\u001b[0m\u001b[0;34m\u001b[0m\u001b[0m\n",
            "\u001b[0;32m/usr/local/lib/python3.10/dist-packages/keras/engine/training.py\u001b[0m in \u001b[0;36mfit\u001b[0;34m(self, x, y, batch_size, epochs, verbose, callbacks, validation_split, validation_data, shuffle, class_weight, sample_weight, initial_epoch, steps_per_epoch, validation_steps, validation_batch_size, validation_freq, max_queue_size, workers, use_multiprocessing)\u001b[0m\n\u001b[1;32m   1683\u001b[0m                         ):\n\u001b[1;32m   1684\u001b[0m                             \u001b[0mcallbacks\u001b[0m\u001b[0;34m.\u001b[0m\u001b[0mon_train_batch_begin\u001b[0m\u001b[0;34m(\u001b[0m\u001b[0mstep\u001b[0m\u001b[0;34m)\u001b[0m\u001b[0;34m\u001b[0m\u001b[0;34m\u001b[0m\u001b[0m\n\u001b[0;32m-> 1685\u001b[0;31m                             \u001b[0mtmp_logs\u001b[0m \u001b[0;34m=\u001b[0m \u001b[0mself\u001b[0m\u001b[0;34m.\u001b[0m\u001b[0mtrain_function\u001b[0m\u001b[0;34m(\u001b[0m\u001b[0miterator\u001b[0m\u001b[0;34m)\u001b[0m\u001b[0;34m\u001b[0m\u001b[0;34m\u001b[0m\u001b[0m\n\u001b[0m\u001b[1;32m   1686\u001b[0m                             \u001b[0;32mif\u001b[0m \u001b[0mdata_handler\u001b[0m\u001b[0;34m.\u001b[0m\u001b[0mshould_sync\u001b[0m\u001b[0;34m:\u001b[0m\u001b[0;34m\u001b[0m\u001b[0;34m\u001b[0m\u001b[0m\n\u001b[1;32m   1687\u001b[0m                                 \u001b[0mcontext\u001b[0m\u001b[0;34m.\u001b[0m\u001b[0masync_wait\u001b[0m\u001b[0;34m(\u001b[0m\u001b[0;34m)\u001b[0m\u001b[0;34m\u001b[0m\u001b[0;34m\u001b[0m\u001b[0m\n",
            "\u001b[0;32m/usr/local/lib/python3.10/dist-packages/tensorflow/python/util/traceback_utils.py\u001b[0m in \u001b[0;36merror_handler\u001b[0;34m(*args, **kwargs)\u001b[0m\n\u001b[1;32m    148\u001b[0m     \u001b[0mfiltered_tb\u001b[0m \u001b[0;34m=\u001b[0m \u001b[0;32mNone\u001b[0m\u001b[0;34m\u001b[0m\u001b[0;34m\u001b[0m\u001b[0m\n\u001b[1;32m    149\u001b[0m     \u001b[0;32mtry\u001b[0m\u001b[0;34m:\u001b[0m\u001b[0;34m\u001b[0m\u001b[0;34m\u001b[0m\u001b[0m\n\u001b[0;32m--> 150\u001b[0;31m       \u001b[0;32mreturn\u001b[0m \u001b[0mfn\u001b[0m\u001b[0;34m(\u001b[0m\u001b[0;34m*\u001b[0m\u001b[0margs\u001b[0m\u001b[0;34m,\u001b[0m \u001b[0;34m**\u001b[0m\u001b[0mkwargs\u001b[0m\u001b[0;34m)\u001b[0m\u001b[0;34m\u001b[0m\u001b[0;34m\u001b[0m\u001b[0m\n\u001b[0m\u001b[1;32m    151\u001b[0m     \u001b[0;32mexcept\u001b[0m \u001b[0mException\u001b[0m \u001b[0;32mas\u001b[0m \u001b[0me\u001b[0m\u001b[0;34m:\u001b[0m\u001b[0;34m\u001b[0m\u001b[0;34m\u001b[0m\u001b[0m\n\u001b[1;32m    152\u001b[0m       \u001b[0mfiltered_tb\u001b[0m \u001b[0;34m=\u001b[0m \u001b[0m_process_traceback_frames\u001b[0m\u001b[0;34m(\u001b[0m\u001b[0me\u001b[0m\u001b[0;34m.\u001b[0m\u001b[0m__traceback__\u001b[0m\u001b[0;34m)\u001b[0m\u001b[0;34m\u001b[0m\u001b[0;34m\u001b[0m\u001b[0m\n",
            "\u001b[0;32m/usr/local/lib/python3.10/dist-packages/tensorflow/python/eager/polymorphic_function/polymorphic_function.py\u001b[0m in \u001b[0;36m__call__\u001b[0;34m(self, *args, **kwds)\u001b[0m\n\u001b[1;32m    892\u001b[0m \u001b[0;34m\u001b[0m\u001b[0m\n\u001b[1;32m    893\u001b[0m       \u001b[0;32mwith\u001b[0m \u001b[0mOptionalXlaContext\u001b[0m\u001b[0;34m(\u001b[0m\u001b[0mself\u001b[0m\u001b[0;34m.\u001b[0m\u001b[0m_jit_compile\u001b[0m\u001b[0;34m)\u001b[0m\u001b[0;34m:\u001b[0m\u001b[0;34m\u001b[0m\u001b[0;34m\u001b[0m\u001b[0m\n\u001b[0;32m--> 894\u001b[0;31m         \u001b[0mresult\u001b[0m \u001b[0;34m=\u001b[0m \u001b[0mself\u001b[0m\u001b[0;34m.\u001b[0m\u001b[0m_call\u001b[0m\u001b[0;34m(\u001b[0m\u001b[0;34m*\u001b[0m\u001b[0margs\u001b[0m\u001b[0;34m,\u001b[0m \u001b[0;34m**\u001b[0m\u001b[0mkwds\u001b[0m\u001b[0;34m)\u001b[0m\u001b[0;34m\u001b[0m\u001b[0;34m\u001b[0m\u001b[0m\n\u001b[0m\u001b[1;32m    895\u001b[0m \u001b[0;34m\u001b[0m\u001b[0m\n\u001b[1;32m    896\u001b[0m       \u001b[0mnew_tracing_count\u001b[0m \u001b[0;34m=\u001b[0m \u001b[0mself\u001b[0m\u001b[0;34m.\u001b[0m\u001b[0mexperimental_get_tracing_count\u001b[0m\u001b[0;34m(\u001b[0m\u001b[0;34m)\u001b[0m\u001b[0;34m\u001b[0m\u001b[0;34m\u001b[0m\u001b[0m\n",
            "\u001b[0;32m/usr/local/lib/python3.10/dist-packages/tensorflow/python/eager/polymorphic_function/polymorphic_function.py\u001b[0m in \u001b[0;36m_call\u001b[0;34m(self, *args, **kwds)\u001b[0m\n\u001b[1;32m    924\u001b[0m       \u001b[0;31m# In this case we have created variables on the first call, so we run the\u001b[0m\u001b[0;34m\u001b[0m\u001b[0;34m\u001b[0m\u001b[0m\n\u001b[1;32m    925\u001b[0m       \u001b[0;31m# defunned version which is guaranteed to never create variables.\u001b[0m\u001b[0;34m\u001b[0m\u001b[0;34m\u001b[0m\u001b[0m\n\u001b[0;32m--> 926\u001b[0;31m       \u001b[0;32mreturn\u001b[0m \u001b[0mself\u001b[0m\u001b[0;34m.\u001b[0m\u001b[0m_no_variable_creation_fn\u001b[0m\u001b[0;34m(\u001b[0m\u001b[0;34m*\u001b[0m\u001b[0margs\u001b[0m\u001b[0;34m,\u001b[0m \u001b[0;34m**\u001b[0m\u001b[0mkwds\u001b[0m\u001b[0;34m)\u001b[0m  \u001b[0;31m# pylint: disable=not-callable\u001b[0m\u001b[0;34m\u001b[0m\u001b[0;34m\u001b[0m\u001b[0m\n\u001b[0m\u001b[1;32m    927\u001b[0m     \u001b[0;32melif\u001b[0m \u001b[0mself\u001b[0m\u001b[0;34m.\u001b[0m\u001b[0m_variable_creation_fn\u001b[0m \u001b[0;32mis\u001b[0m \u001b[0;32mnot\u001b[0m \u001b[0;32mNone\u001b[0m\u001b[0;34m:\u001b[0m\u001b[0;34m\u001b[0m\u001b[0;34m\u001b[0m\u001b[0m\n\u001b[1;32m    928\u001b[0m       \u001b[0;31m# Release the lock early so that multiple threads can perform the call\u001b[0m\u001b[0;34m\u001b[0m\u001b[0;34m\u001b[0m\u001b[0m\n",
            "\u001b[0;32m/usr/local/lib/python3.10/dist-packages/tensorflow/python/eager/polymorphic_function/tracing_compiler.py\u001b[0m in \u001b[0;36m__call__\u001b[0;34m(self, *args, **kwargs)\u001b[0m\n\u001b[1;32m    141\u001b[0m       (concrete_function,\n\u001b[1;32m    142\u001b[0m        filtered_flat_args) = self._maybe_define_function(args, kwargs)\n\u001b[0;32m--> 143\u001b[0;31m     return concrete_function._call_flat(\n\u001b[0m\u001b[1;32m    144\u001b[0m         filtered_flat_args, captured_inputs=concrete_function.captured_inputs)  # pylint: disable=protected-access\n\u001b[1;32m    145\u001b[0m \u001b[0;34m\u001b[0m\u001b[0m\n",
            "\u001b[0;32m/usr/local/lib/python3.10/dist-packages/tensorflow/python/eager/polymorphic_function/monomorphic_function.py\u001b[0m in \u001b[0;36m_call_flat\u001b[0;34m(self, args, captured_inputs, cancellation_manager)\u001b[0m\n\u001b[1;32m   1755\u001b[0m         and executing_eagerly):\n\u001b[1;32m   1756\u001b[0m       \u001b[0;31m# No tape is watching; skip to running the function.\u001b[0m\u001b[0;34m\u001b[0m\u001b[0;34m\u001b[0m\u001b[0m\n\u001b[0;32m-> 1757\u001b[0;31m       return self._build_call_outputs(self._inference_function.call(\n\u001b[0m\u001b[1;32m   1758\u001b[0m           ctx, args, cancellation_manager=cancellation_manager))\n\u001b[1;32m   1759\u001b[0m     forward_backward = self._select_forward_and_backward_functions(\n",
            "\u001b[0;32m/usr/local/lib/python3.10/dist-packages/tensorflow/python/eager/polymorphic_function/monomorphic_function.py\u001b[0m in \u001b[0;36mcall\u001b[0;34m(self, ctx, args, cancellation_manager)\u001b[0m\n\u001b[1;32m    379\u001b[0m       \u001b[0;32mwith\u001b[0m \u001b[0m_InterpolateFunctionError\u001b[0m\u001b[0;34m(\u001b[0m\u001b[0mself\u001b[0m\u001b[0;34m)\u001b[0m\u001b[0;34m:\u001b[0m\u001b[0;34m\u001b[0m\u001b[0;34m\u001b[0m\u001b[0m\n\u001b[1;32m    380\u001b[0m         \u001b[0;32mif\u001b[0m \u001b[0mcancellation_manager\u001b[0m \u001b[0;32mis\u001b[0m \u001b[0;32mNone\u001b[0m\u001b[0;34m:\u001b[0m\u001b[0;34m\u001b[0m\u001b[0;34m\u001b[0m\u001b[0m\n\u001b[0;32m--> 381\u001b[0;31m           outputs = execute.execute(\n\u001b[0m\u001b[1;32m    382\u001b[0m               \u001b[0mstr\u001b[0m\u001b[0;34m(\u001b[0m\u001b[0mself\u001b[0m\u001b[0;34m.\u001b[0m\u001b[0msignature\u001b[0m\u001b[0;34m.\u001b[0m\u001b[0mname\u001b[0m\u001b[0;34m)\u001b[0m\u001b[0;34m,\u001b[0m\u001b[0;34m\u001b[0m\u001b[0;34m\u001b[0m\u001b[0m\n\u001b[1;32m    383\u001b[0m               \u001b[0mnum_outputs\u001b[0m\u001b[0;34m=\u001b[0m\u001b[0mself\u001b[0m\u001b[0;34m.\u001b[0m\u001b[0m_num_outputs\u001b[0m\u001b[0;34m,\u001b[0m\u001b[0;34m\u001b[0m\u001b[0;34m\u001b[0m\u001b[0m\n",
            "\u001b[0;32m/usr/local/lib/python3.10/dist-packages/tensorflow/python/eager/execute.py\u001b[0m in \u001b[0;36mquick_execute\u001b[0;34m(op_name, num_outputs, inputs, attrs, ctx, name)\u001b[0m\n\u001b[1;32m     50\u001b[0m   \u001b[0;32mtry\u001b[0m\u001b[0;34m:\u001b[0m\u001b[0;34m\u001b[0m\u001b[0;34m\u001b[0m\u001b[0m\n\u001b[1;32m     51\u001b[0m     \u001b[0mctx\u001b[0m\u001b[0;34m.\u001b[0m\u001b[0mensure_initialized\u001b[0m\u001b[0;34m(\u001b[0m\u001b[0;34m)\u001b[0m\u001b[0;34m\u001b[0m\u001b[0;34m\u001b[0m\u001b[0m\n\u001b[0;32m---> 52\u001b[0;31m     tensors = pywrap_tfe.TFE_Py_Execute(ctx._handle, device_name, op_name,\n\u001b[0m\u001b[1;32m     53\u001b[0m                                         inputs, attrs, num_outputs)\n\u001b[1;32m     54\u001b[0m   \u001b[0;32mexcept\u001b[0m \u001b[0mcore\u001b[0m\u001b[0;34m.\u001b[0m\u001b[0m_NotOkStatusException\u001b[0m \u001b[0;32mas\u001b[0m \u001b[0me\u001b[0m\u001b[0;34m:\u001b[0m\u001b[0;34m\u001b[0m\u001b[0;34m\u001b[0m\u001b[0m\n",
            "\u001b[0;31mKeyboardInterrupt\u001b[0m: "
          ]
        }
      ]
    },
    {
      "cell_type": "markdown",
      "source": [
        "##**CNN_Model**"
      ],
      "metadata": {
        "id": "faDSNAjnJTFm"
      }
    },
    {
      "cell_type": "code",
      "source": [
        "from tensorflow import keras"
      ],
      "metadata": {
        "id": "AKOWTmFsHYSm"
      },
      "execution_count": 94,
      "outputs": []
    },
    {
      "cell_type": "code",
      "source": [
        "model_CNN = keras.Sequential()\n",
        "\n",
        "model_CNN.add(keras.layers.Conv2D(32, kernel_size=(3, 3), activation='relu', input_shape=(224, 224, 3)))\n",
        "model_CNN.add(keras.layers.BatchNormalization())\n",
        "model_CNN.add(keras.layers.MaxPooling2D(pool_size=(2, 2)))\n",
        "\n",
        "model_CNN.add(keras.layers.Conv2D(64, kernel_size=(3, 3), activation='relu'))\n",
        "model_CNN.add(keras.layers.BatchNormalization())\n",
        "model_CNN.add(keras.layers.MaxPooling2D(pool_size=(2, 2)))\n",
        "\n",
        "model_CNN.add(keras.layers.Conv2D(128, kernel_size=(3, 3), activation='relu'))\n",
        "model_CNN.add(keras.layers.BatchNormalization())\n",
        "model_CNN.add(keras.layers.MaxPooling2D(pool_size=(2, 2)))\n",
        "\n",
        "model_CNN.add(keras.layers.Flatten())\n",
        "\n",
        "model_CNN.add(keras.layers.Dense(128, activation='relu'))\n",
        "model_CNN.add(keras.layers.Dropout(0.5))\n",
        "\n",
        "model_CNN.add(keras.layers.Dense(21, activation='softmax'))\n",
        "\n",
        "# Learning Rate Scheduler\n",
        "lr_schedule = keras.optimizers.schedules.ExponentialDecay(initial_learning_rate=1e-3, decay_steps=10000, decay_rate=0.9)\n",
        "optimizer = keras.optimizers.Adam(learning_rate=lr_schedule)\n",
        "\n",
        "\n",
        "\n",
        "\n"
      ],
      "metadata": {
        "id": "MzAS8I2ZIYfd"
      },
      "execution_count": 95,
      "outputs": []
    },
    {
      "cell_type": "code",
      "source": [
        "model_CNN.summary()"
      ],
      "metadata": {
        "colab": {
          "base_uri": "https://localhost:8080/"
        },
        "id": "tgpT5L8r0ZVD",
        "outputId": "0ebeba09-b96c-4409-85ce-0701a5d64df2"
      },
      "execution_count": 96,
      "outputs": [
        {
          "output_type": "stream",
          "name": "stdout",
          "text": [
            "Model: \"sequential\"\n",
            "_________________________________________________________________\n",
            " Layer (type)                Output Shape              Param #   \n",
            "=================================================================\n",
            " conv2d (Conv2D)             (None, 222, 222, 32)      896       \n",
            "                                                                 \n",
            " batch_normalization (BatchN  (None, 222, 222, 32)     128       \n",
            " ormalization)                                                   \n",
            "                                                                 \n",
            " max_pooling2d (MaxPooling2D  (None, 111, 111, 32)     0         \n",
            " )                                                               \n",
            "                                                                 \n",
            " conv2d_1 (Conv2D)           (None, 109, 109, 64)      18496     \n",
            "                                                                 \n",
            " batch_normalization_1 (Batc  (None, 109, 109, 64)     256       \n",
            " hNormalization)                                                 \n",
            "                                                                 \n",
            " max_pooling2d_1 (MaxPooling  (None, 54, 54, 64)       0         \n",
            " 2D)                                                             \n",
            "                                                                 \n",
            " conv2d_2 (Conv2D)           (None, 52, 52, 128)       73856     \n",
            "                                                                 \n",
            " batch_normalization_2 (Batc  (None, 52, 52, 128)      512       \n",
            " hNormalization)                                                 \n",
            "                                                                 \n",
            " max_pooling2d_2 (MaxPooling  (None, 26, 26, 128)      0         \n",
            " 2D)                                                             \n",
            "                                                                 \n",
            " flatten (Flatten)           (None, 86528)             0         \n",
            "                                                                 \n",
            " dense (Dense)               (None, 128)               11075712  \n",
            "                                                                 \n",
            " dropout (Dropout)           (None, 128)               0         \n",
            "                                                                 \n",
            " dense_1 (Dense)             (None, 21)                2709      \n",
            "                                                                 \n",
            "=================================================================\n",
            "Total params: 11,172,565\n",
            "Trainable params: 11,172,117\n",
            "Non-trainable params: 448\n",
            "_________________________________________________________________\n"
          ]
        }
      ]
    },
    {
      "cell_type": "code",
      "source": [
        "model_CNN.compile(optimizer=optimizer, loss=\"sparse_categorical_crossentropy\", metrics=['acc'])"
      ],
      "metadata": {
        "id": "2z9FvBw9cJP0"
      },
      "execution_count": 97,
      "outputs": []
    },
    {
      "cell_type": "code",
      "source": [
        "data_augmentation = keras.Sequential([\n",
        "    keras.layers.experimental.preprocessing.RandomFlip(\"horizontal\"),\n",
        "    keras.layers.experimental.preprocessing.RandomRotation(0.1),\n",
        "    keras.layers.experimental.preprocessing.RandomZoom(0.1),\n",
        "])"
      ],
      "metadata": {
        "id": "IlT4i786b_Nm"
      },
      "execution_count": null,
      "outputs": []
    },
    {
      "cell_type": "code",
      "source": [
        "augmented_x_train = data_augmentation(x_train)\n"
      ],
      "metadata": {
        "id": "Z-OnbcOgcC5b"
      },
      "execution_count": null,
      "outputs": []
    },
    {
      "cell_type": "code",
      "source": [
        "model_CNN.fit(x_train, y_train, epochs=10, batch_size=32, validation_split=0.2)"
      ],
      "metadata": {
        "id": "rHRK8QwicFOd",
        "colab": {
          "base_uri": "https://localhost:8080/",
          "height": 363
        },
        "outputId": "d4ccff28-4d9a-46bd-ef80-92134b35887d"
      },
      "execution_count": 98,
      "outputs": [
        {
          "output_type": "stream",
          "name": "stdout",
          "text": [
            "Epoch 1/10\n",
            "157/296 [==============>...............] - ETA: 6:32 - loss: 15.6052 - acc: 0.0478"
          ]
        },
        {
          "output_type": "error",
          "ename": "KeyboardInterrupt",
          "evalue": "ignored",
          "traceback": [
            "\u001b[0;31m---------------------------------------------------------------------------\u001b[0m",
            "\u001b[0;31mKeyboardInterrupt\u001b[0m                         Traceback (most recent call last)",
            "\u001b[0;32m<ipython-input-98-8f6b5d699156>\u001b[0m in \u001b[0;36m<cell line: 1>\u001b[0;34m()\u001b[0m\n\u001b[0;32m----> 1\u001b[0;31m \u001b[0mmodel_CNN\u001b[0m\u001b[0;34m.\u001b[0m\u001b[0mfit\u001b[0m\u001b[0;34m(\u001b[0m\u001b[0mx_train\u001b[0m\u001b[0;34m,\u001b[0m \u001b[0my_train\u001b[0m\u001b[0;34m,\u001b[0m \u001b[0mepochs\u001b[0m\u001b[0;34m=\u001b[0m\u001b[0;36m10\u001b[0m\u001b[0;34m,\u001b[0m \u001b[0mbatch_size\u001b[0m\u001b[0;34m=\u001b[0m\u001b[0;36m32\u001b[0m\u001b[0;34m,\u001b[0m \u001b[0mvalidation_split\u001b[0m\u001b[0;34m=\u001b[0m\u001b[0;36m0.2\u001b[0m\u001b[0;34m)\u001b[0m\u001b[0;34m\u001b[0m\u001b[0;34m\u001b[0m\u001b[0m\n\u001b[0m",
            "\u001b[0;32m/usr/local/lib/python3.10/dist-packages/keras/utils/traceback_utils.py\u001b[0m in \u001b[0;36merror_handler\u001b[0;34m(*args, **kwargs)\u001b[0m\n\u001b[1;32m     63\u001b[0m         \u001b[0mfiltered_tb\u001b[0m \u001b[0;34m=\u001b[0m \u001b[0;32mNone\u001b[0m\u001b[0;34m\u001b[0m\u001b[0;34m\u001b[0m\u001b[0m\n\u001b[1;32m     64\u001b[0m         \u001b[0;32mtry\u001b[0m\u001b[0;34m:\u001b[0m\u001b[0;34m\u001b[0m\u001b[0;34m\u001b[0m\u001b[0m\n\u001b[0;32m---> 65\u001b[0;31m             \u001b[0;32mreturn\u001b[0m \u001b[0mfn\u001b[0m\u001b[0;34m(\u001b[0m\u001b[0;34m*\u001b[0m\u001b[0margs\u001b[0m\u001b[0;34m,\u001b[0m \u001b[0;34m**\u001b[0m\u001b[0mkwargs\u001b[0m\u001b[0;34m)\u001b[0m\u001b[0;34m\u001b[0m\u001b[0;34m\u001b[0m\u001b[0m\n\u001b[0m\u001b[1;32m     66\u001b[0m         \u001b[0;32mexcept\u001b[0m \u001b[0mException\u001b[0m \u001b[0;32mas\u001b[0m \u001b[0me\u001b[0m\u001b[0;34m:\u001b[0m\u001b[0;34m\u001b[0m\u001b[0;34m\u001b[0m\u001b[0m\n\u001b[1;32m     67\u001b[0m             \u001b[0mfiltered_tb\u001b[0m \u001b[0;34m=\u001b[0m \u001b[0m_process_traceback_frames\u001b[0m\u001b[0;34m(\u001b[0m\u001b[0me\u001b[0m\u001b[0;34m.\u001b[0m\u001b[0m__traceback__\u001b[0m\u001b[0;34m)\u001b[0m\u001b[0;34m\u001b[0m\u001b[0;34m\u001b[0m\u001b[0m\n",
            "\u001b[0;32m/usr/local/lib/python3.10/dist-packages/keras/engine/training.py\u001b[0m in \u001b[0;36mfit\u001b[0;34m(self, x, y, batch_size, epochs, verbose, callbacks, validation_split, validation_data, shuffle, class_weight, sample_weight, initial_epoch, steps_per_epoch, validation_steps, validation_batch_size, validation_freq, max_queue_size, workers, use_multiprocessing)\u001b[0m\n\u001b[1;32m   1683\u001b[0m                         ):\n\u001b[1;32m   1684\u001b[0m                             \u001b[0mcallbacks\u001b[0m\u001b[0;34m.\u001b[0m\u001b[0mon_train_batch_begin\u001b[0m\u001b[0;34m(\u001b[0m\u001b[0mstep\u001b[0m\u001b[0;34m)\u001b[0m\u001b[0;34m\u001b[0m\u001b[0;34m\u001b[0m\u001b[0m\n\u001b[0;32m-> 1685\u001b[0;31m                             \u001b[0mtmp_logs\u001b[0m \u001b[0;34m=\u001b[0m \u001b[0mself\u001b[0m\u001b[0;34m.\u001b[0m\u001b[0mtrain_function\u001b[0m\u001b[0;34m(\u001b[0m\u001b[0miterator\u001b[0m\u001b[0;34m)\u001b[0m\u001b[0;34m\u001b[0m\u001b[0;34m\u001b[0m\u001b[0m\n\u001b[0m\u001b[1;32m   1686\u001b[0m                             \u001b[0;32mif\u001b[0m \u001b[0mdata_handler\u001b[0m\u001b[0;34m.\u001b[0m\u001b[0mshould_sync\u001b[0m\u001b[0;34m:\u001b[0m\u001b[0;34m\u001b[0m\u001b[0;34m\u001b[0m\u001b[0m\n\u001b[1;32m   1687\u001b[0m                                 \u001b[0mcontext\u001b[0m\u001b[0;34m.\u001b[0m\u001b[0masync_wait\u001b[0m\u001b[0;34m(\u001b[0m\u001b[0;34m)\u001b[0m\u001b[0;34m\u001b[0m\u001b[0;34m\u001b[0m\u001b[0m\n",
            "\u001b[0;32m/usr/local/lib/python3.10/dist-packages/tensorflow/python/util/traceback_utils.py\u001b[0m in \u001b[0;36merror_handler\u001b[0;34m(*args, **kwargs)\u001b[0m\n\u001b[1;32m    148\u001b[0m     \u001b[0mfiltered_tb\u001b[0m \u001b[0;34m=\u001b[0m \u001b[0;32mNone\u001b[0m\u001b[0;34m\u001b[0m\u001b[0;34m\u001b[0m\u001b[0m\n\u001b[1;32m    149\u001b[0m     \u001b[0;32mtry\u001b[0m\u001b[0;34m:\u001b[0m\u001b[0;34m\u001b[0m\u001b[0;34m\u001b[0m\u001b[0m\n\u001b[0;32m--> 150\u001b[0;31m       \u001b[0;32mreturn\u001b[0m \u001b[0mfn\u001b[0m\u001b[0;34m(\u001b[0m\u001b[0;34m*\u001b[0m\u001b[0margs\u001b[0m\u001b[0;34m,\u001b[0m \u001b[0;34m**\u001b[0m\u001b[0mkwargs\u001b[0m\u001b[0;34m)\u001b[0m\u001b[0;34m\u001b[0m\u001b[0;34m\u001b[0m\u001b[0m\n\u001b[0m\u001b[1;32m    151\u001b[0m     \u001b[0;32mexcept\u001b[0m \u001b[0mException\u001b[0m \u001b[0;32mas\u001b[0m \u001b[0me\u001b[0m\u001b[0;34m:\u001b[0m\u001b[0;34m\u001b[0m\u001b[0;34m\u001b[0m\u001b[0m\n\u001b[1;32m    152\u001b[0m       \u001b[0mfiltered_tb\u001b[0m \u001b[0;34m=\u001b[0m \u001b[0m_process_traceback_frames\u001b[0m\u001b[0;34m(\u001b[0m\u001b[0me\u001b[0m\u001b[0;34m.\u001b[0m\u001b[0m__traceback__\u001b[0m\u001b[0;34m)\u001b[0m\u001b[0;34m\u001b[0m\u001b[0;34m\u001b[0m\u001b[0m\n",
            "\u001b[0;32m/usr/local/lib/python3.10/dist-packages/tensorflow/python/eager/polymorphic_function/polymorphic_function.py\u001b[0m in \u001b[0;36m__call__\u001b[0;34m(self, *args, **kwds)\u001b[0m\n\u001b[1;32m    892\u001b[0m \u001b[0;34m\u001b[0m\u001b[0m\n\u001b[1;32m    893\u001b[0m       \u001b[0;32mwith\u001b[0m \u001b[0mOptionalXlaContext\u001b[0m\u001b[0;34m(\u001b[0m\u001b[0mself\u001b[0m\u001b[0;34m.\u001b[0m\u001b[0m_jit_compile\u001b[0m\u001b[0;34m)\u001b[0m\u001b[0;34m:\u001b[0m\u001b[0;34m\u001b[0m\u001b[0;34m\u001b[0m\u001b[0m\n\u001b[0;32m--> 894\u001b[0;31m         \u001b[0mresult\u001b[0m \u001b[0;34m=\u001b[0m \u001b[0mself\u001b[0m\u001b[0;34m.\u001b[0m\u001b[0m_call\u001b[0m\u001b[0;34m(\u001b[0m\u001b[0;34m*\u001b[0m\u001b[0margs\u001b[0m\u001b[0;34m,\u001b[0m \u001b[0;34m**\u001b[0m\u001b[0mkwds\u001b[0m\u001b[0;34m)\u001b[0m\u001b[0;34m\u001b[0m\u001b[0;34m\u001b[0m\u001b[0m\n\u001b[0m\u001b[1;32m    895\u001b[0m \u001b[0;34m\u001b[0m\u001b[0m\n\u001b[1;32m    896\u001b[0m       \u001b[0mnew_tracing_count\u001b[0m \u001b[0;34m=\u001b[0m \u001b[0mself\u001b[0m\u001b[0;34m.\u001b[0m\u001b[0mexperimental_get_tracing_count\u001b[0m\u001b[0;34m(\u001b[0m\u001b[0;34m)\u001b[0m\u001b[0;34m\u001b[0m\u001b[0;34m\u001b[0m\u001b[0m\n",
            "\u001b[0;32m/usr/local/lib/python3.10/dist-packages/tensorflow/python/eager/polymorphic_function/polymorphic_function.py\u001b[0m in \u001b[0;36m_call\u001b[0;34m(self, *args, **kwds)\u001b[0m\n\u001b[1;32m    924\u001b[0m       \u001b[0;31m# In this case we have created variables on the first call, so we run the\u001b[0m\u001b[0;34m\u001b[0m\u001b[0;34m\u001b[0m\u001b[0m\n\u001b[1;32m    925\u001b[0m       \u001b[0;31m# defunned version which is guaranteed to never create variables.\u001b[0m\u001b[0;34m\u001b[0m\u001b[0;34m\u001b[0m\u001b[0m\n\u001b[0;32m--> 926\u001b[0;31m       \u001b[0;32mreturn\u001b[0m \u001b[0mself\u001b[0m\u001b[0;34m.\u001b[0m\u001b[0m_no_variable_creation_fn\u001b[0m\u001b[0;34m(\u001b[0m\u001b[0;34m*\u001b[0m\u001b[0margs\u001b[0m\u001b[0;34m,\u001b[0m \u001b[0;34m**\u001b[0m\u001b[0mkwds\u001b[0m\u001b[0;34m)\u001b[0m  \u001b[0;31m# pylint: disable=not-callable\u001b[0m\u001b[0;34m\u001b[0m\u001b[0;34m\u001b[0m\u001b[0m\n\u001b[0m\u001b[1;32m    927\u001b[0m     \u001b[0;32melif\u001b[0m \u001b[0mself\u001b[0m\u001b[0;34m.\u001b[0m\u001b[0m_variable_creation_fn\u001b[0m \u001b[0;32mis\u001b[0m \u001b[0;32mnot\u001b[0m \u001b[0;32mNone\u001b[0m\u001b[0;34m:\u001b[0m\u001b[0;34m\u001b[0m\u001b[0;34m\u001b[0m\u001b[0m\n\u001b[1;32m    928\u001b[0m       \u001b[0;31m# Release the lock early so that multiple threads can perform the call\u001b[0m\u001b[0;34m\u001b[0m\u001b[0;34m\u001b[0m\u001b[0m\n",
            "\u001b[0;32m/usr/local/lib/python3.10/dist-packages/tensorflow/python/eager/polymorphic_function/tracing_compiler.py\u001b[0m in \u001b[0;36m__call__\u001b[0;34m(self, *args, **kwargs)\u001b[0m\n\u001b[1;32m    141\u001b[0m       (concrete_function,\n\u001b[1;32m    142\u001b[0m        filtered_flat_args) = self._maybe_define_function(args, kwargs)\n\u001b[0;32m--> 143\u001b[0;31m     return concrete_function._call_flat(\n\u001b[0m\u001b[1;32m    144\u001b[0m         filtered_flat_args, captured_inputs=concrete_function.captured_inputs)  # pylint: disable=protected-access\n\u001b[1;32m    145\u001b[0m \u001b[0;34m\u001b[0m\u001b[0m\n",
            "\u001b[0;32m/usr/local/lib/python3.10/dist-packages/tensorflow/python/eager/polymorphic_function/monomorphic_function.py\u001b[0m in \u001b[0;36m_call_flat\u001b[0;34m(self, args, captured_inputs, cancellation_manager)\u001b[0m\n\u001b[1;32m   1755\u001b[0m         and executing_eagerly):\n\u001b[1;32m   1756\u001b[0m       \u001b[0;31m# No tape is watching; skip to running the function.\u001b[0m\u001b[0;34m\u001b[0m\u001b[0;34m\u001b[0m\u001b[0m\n\u001b[0;32m-> 1757\u001b[0;31m       return self._build_call_outputs(self._inference_function.call(\n\u001b[0m\u001b[1;32m   1758\u001b[0m           ctx, args, cancellation_manager=cancellation_manager))\n\u001b[1;32m   1759\u001b[0m     forward_backward = self._select_forward_and_backward_functions(\n",
            "\u001b[0;32m/usr/local/lib/python3.10/dist-packages/tensorflow/python/eager/polymorphic_function/monomorphic_function.py\u001b[0m in \u001b[0;36mcall\u001b[0;34m(self, ctx, args, cancellation_manager)\u001b[0m\n\u001b[1;32m    379\u001b[0m       \u001b[0;32mwith\u001b[0m \u001b[0m_InterpolateFunctionError\u001b[0m\u001b[0;34m(\u001b[0m\u001b[0mself\u001b[0m\u001b[0;34m)\u001b[0m\u001b[0;34m:\u001b[0m\u001b[0;34m\u001b[0m\u001b[0;34m\u001b[0m\u001b[0m\n\u001b[1;32m    380\u001b[0m         \u001b[0;32mif\u001b[0m \u001b[0mcancellation_manager\u001b[0m \u001b[0;32mis\u001b[0m \u001b[0;32mNone\u001b[0m\u001b[0;34m:\u001b[0m\u001b[0;34m\u001b[0m\u001b[0;34m\u001b[0m\u001b[0m\n\u001b[0;32m--> 381\u001b[0;31m           outputs = execute.execute(\n\u001b[0m\u001b[1;32m    382\u001b[0m               \u001b[0mstr\u001b[0m\u001b[0;34m(\u001b[0m\u001b[0mself\u001b[0m\u001b[0;34m.\u001b[0m\u001b[0msignature\u001b[0m\u001b[0;34m.\u001b[0m\u001b[0mname\u001b[0m\u001b[0;34m)\u001b[0m\u001b[0;34m,\u001b[0m\u001b[0;34m\u001b[0m\u001b[0;34m\u001b[0m\u001b[0m\n\u001b[1;32m    383\u001b[0m               \u001b[0mnum_outputs\u001b[0m\u001b[0;34m=\u001b[0m\u001b[0mself\u001b[0m\u001b[0;34m.\u001b[0m\u001b[0m_num_outputs\u001b[0m\u001b[0;34m,\u001b[0m\u001b[0;34m\u001b[0m\u001b[0;34m\u001b[0m\u001b[0m\n",
            "\u001b[0;32m/usr/local/lib/python3.10/dist-packages/tensorflow/python/eager/execute.py\u001b[0m in \u001b[0;36mquick_execute\u001b[0;34m(op_name, num_outputs, inputs, attrs, ctx, name)\u001b[0m\n\u001b[1;32m     50\u001b[0m   \u001b[0;32mtry\u001b[0m\u001b[0;34m:\u001b[0m\u001b[0;34m\u001b[0m\u001b[0;34m\u001b[0m\u001b[0m\n\u001b[1;32m     51\u001b[0m     \u001b[0mctx\u001b[0m\u001b[0;34m.\u001b[0m\u001b[0mensure_initialized\u001b[0m\u001b[0;34m(\u001b[0m\u001b[0;34m)\u001b[0m\u001b[0;34m\u001b[0m\u001b[0;34m\u001b[0m\u001b[0m\n\u001b[0;32m---> 52\u001b[0;31m     tensors = pywrap_tfe.TFE_Py_Execute(ctx._handle, device_name, op_name,\n\u001b[0m\u001b[1;32m     53\u001b[0m                                         inputs, attrs, num_outputs)\n\u001b[1;32m     54\u001b[0m   \u001b[0;32mexcept\u001b[0m \u001b[0mcore\u001b[0m\u001b[0;34m.\u001b[0m\u001b[0m_NotOkStatusException\u001b[0m \u001b[0;32mas\u001b[0m \u001b[0me\u001b[0m\u001b[0;34m:\u001b[0m\u001b[0;34m\u001b[0m\u001b[0;34m\u001b[0m\u001b[0m\n",
            "\u001b[0;31mKeyboardInterrupt\u001b[0m: "
          ]
        }
      ]
    },
    {
      "cell_type": "markdown",
      "source": [
        "##***Transfar_Laerning***"
      ],
      "metadata": {
        "id": "OP0du69ULAdc"
      }
    },
    {
      "cell_type": "code",
      "source": [
        "import tensorflow_hub as hub\n",
        "from tensorflow import keras"
      ],
      "metadata": {
        "id": "a7rzo1LPLOtC"
      },
      "execution_count": 60,
      "outputs": []
    },
    {
      "cell_type": "code",
      "source": [
        "mobilenet_model = 'https://tfhub.dev/google/tf2-preview/mobilenet_v2/feature_vector/4'\n",
        "\n",
        "pretrained_model = hub.KerasLayer(mobilenet_model, input_shape=(224,224,3), trainable=False)"
      ],
      "metadata": {
        "id": "e6UlYzOrLSix"
      },
      "execution_count": 101,
      "outputs": []
    },
    {
      "cell_type": "code",
      "source": [
        "num_of_classes =21\n",
        "\n",
        "model = keras.Sequential([\n",
        "\n",
        "    pretrained_model,\n",
        "    keras.layers.Dense(num_of_classes)\n",
        "\n",
        "])\n",
        "\n",
        "model.summary()"
      ],
      "metadata": {
        "id": "d3wQMXmaLY4E",
        "colab": {
          "base_uri": "https://localhost:8080/"
        },
        "outputId": "c10da8e6-9041-45bc-f5c1-17827991982e"
      },
      "execution_count": 102,
      "outputs": [
        {
          "output_type": "stream",
          "name": "stdout",
          "text": [
            "Model: \"sequential_1\"\n",
            "_________________________________________________________________\n",
            " Layer (type)                Output Shape              Param #   \n",
            "=================================================================\n",
            " keras_layer (KerasLayer)    (None, 1280)              2257984   \n",
            "                                                                 \n",
            " dense_2 (Dense)             (None, 21)                26901     \n",
            "                                                                 \n",
            "=================================================================\n",
            "Total params: 2,284,885\n",
            "Trainable params: 26,901\n",
            "Non-trainable params: 2,257,984\n",
            "_________________________________________________________________\n"
          ]
        }
      ]
    },
    {
      "cell_type": "code",
      "source": [
        "model.compile(\n",
        "    optimizer = 'adam',\n",
        "    loss = keras.losses.SparseCategoricalCrossentropy(from_logits=True),\n",
        "    metrics = ['acc']\n",
        ")"
      ],
      "metadata": {
        "id": "v_o9WfW6LecI"
      },
      "execution_count": 103,
      "outputs": []
    },
    {
      "cell_type": "code",
      "source": [
        "model.fit(x_train, y_train, epochs=5)"
      ],
      "metadata": {
        "id": "2VGrHNZrLi2j",
        "colab": {
          "base_uri": "https://localhost:8080/",
          "height": 363
        },
        "outputId": "35a79b79-fbf5-402b-d708-eb2ae580affd"
      },
      "execution_count": 104,
      "outputs": [
        {
          "output_type": "stream",
          "name": "stdout",
          "text": [
            "Epoch 1/5\n",
            "219/370 [================>.............] - ETA: 2:01 - loss: 0.9007 - acc: 0.0492"
          ]
        },
        {
          "output_type": "error",
          "ename": "KeyboardInterrupt",
          "evalue": "ignored",
          "traceback": [
            "\u001b[0;31m---------------------------------------------------------------------------\u001b[0m",
            "\u001b[0;31mKeyboardInterrupt\u001b[0m                         Traceback (most recent call last)",
            "\u001b[0;32m<ipython-input-104-f799c55326df>\u001b[0m in \u001b[0;36m<cell line: 1>\u001b[0;34m()\u001b[0m\n\u001b[0;32m----> 1\u001b[0;31m \u001b[0mmodel\u001b[0m\u001b[0;34m.\u001b[0m\u001b[0mfit\u001b[0m\u001b[0;34m(\u001b[0m\u001b[0mx_train\u001b[0m\u001b[0;34m,\u001b[0m \u001b[0my_train\u001b[0m\u001b[0;34m,\u001b[0m \u001b[0mepochs\u001b[0m\u001b[0;34m=\u001b[0m\u001b[0;36m5\u001b[0m\u001b[0;34m)\u001b[0m\u001b[0;34m\u001b[0m\u001b[0;34m\u001b[0m\u001b[0m\n\u001b[0m",
            "\u001b[0;32m/usr/local/lib/python3.10/dist-packages/keras/utils/traceback_utils.py\u001b[0m in \u001b[0;36merror_handler\u001b[0;34m(*args, **kwargs)\u001b[0m\n\u001b[1;32m     63\u001b[0m         \u001b[0mfiltered_tb\u001b[0m \u001b[0;34m=\u001b[0m \u001b[0;32mNone\u001b[0m\u001b[0;34m\u001b[0m\u001b[0;34m\u001b[0m\u001b[0m\n\u001b[1;32m     64\u001b[0m         \u001b[0;32mtry\u001b[0m\u001b[0;34m:\u001b[0m\u001b[0;34m\u001b[0m\u001b[0;34m\u001b[0m\u001b[0m\n\u001b[0;32m---> 65\u001b[0;31m             \u001b[0;32mreturn\u001b[0m \u001b[0mfn\u001b[0m\u001b[0;34m(\u001b[0m\u001b[0;34m*\u001b[0m\u001b[0margs\u001b[0m\u001b[0;34m,\u001b[0m \u001b[0;34m**\u001b[0m\u001b[0mkwargs\u001b[0m\u001b[0;34m)\u001b[0m\u001b[0;34m\u001b[0m\u001b[0;34m\u001b[0m\u001b[0m\n\u001b[0m\u001b[1;32m     66\u001b[0m         \u001b[0;32mexcept\u001b[0m \u001b[0mException\u001b[0m \u001b[0;32mas\u001b[0m \u001b[0me\u001b[0m\u001b[0;34m:\u001b[0m\u001b[0;34m\u001b[0m\u001b[0;34m\u001b[0m\u001b[0m\n\u001b[1;32m     67\u001b[0m             \u001b[0mfiltered_tb\u001b[0m \u001b[0;34m=\u001b[0m \u001b[0m_process_traceback_frames\u001b[0m\u001b[0;34m(\u001b[0m\u001b[0me\u001b[0m\u001b[0;34m.\u001b[0m\u001b[0m__traceback__\u001b[0m\u001b[0;34m)\u001b[0m\u001b[0;34m\u001b[0m\u001b[0;34m\u001b[0m\u001b[0m\n",
            "\u001b[0;32m/usr/local/lib/python3.10/dist-packages/keras/engine/training.py\u001b[0m in \u001b[0;36mfit\u001b[0;34m(self, x, y, batch_size, epochs, verbose, callbacks, validation_split, validation_data, shuffle, class_weight, sample_weight, initial_epoch, steps_per_epoch, validation_steps, validation_batch_size, validation_freq, max_queue_size, workers, use_multiprocessing)\u001b[0m\n\u001b[1;32m   1683\u001b[0m                         ):\n\u001b[1;32m   1684\u001b[0m                             \u001b[0mcallbacks\u001b[0m\u001b[0;34m.\u001b[0m\u001b[0mon_train_batch_begin\u001b[0m\u001b[0;34m(\u001b[0m\u001b[0mstep\u001b[0m\u001b[0;34m)\u001b[0m\u001b[0;34m\u001b[0m\u001b[0;34m\u001b[0m\u001b[0m\n\u001b[0;32m-> 1685\u001b[0;31m                             \u001b[0mtmp_logs\u001b[0m \u001b[0;34m=\u001b[0m \u001b[0mself\u001b[0m\u001b[0;34m.\u001b[0m\u001b[0mtrain_function\u001b[0m\u001b[0;34m(\u001b[0m\u001b[0miterator\u001b[0m\u001b[0;34m)\u001b[0m\u001b[0;34m\u001b[0m\u001b[0;34m\u001b[0m\u001b[0m\n\u001b[0m\u001b[1;32m   1686\u001b[0m                             \u001b[0;32mif\u001b[0m \u001b[0mdata_handler\u001b[0m\u001b[0;34m.\u001b[0m\u001b[0mshould_sync\u001b[0m\u001b[0;34m:\u001b[0m\u001b[0;34m\u001b[0m\u001b[0;34m\u001b[0m\u001b[0m\n\u001b[1;32m   1687\u001b[0m                                 \u001b[0mcontext\u001b[0m\u001b[0;34m.\u001b[0m\u001b[0masync_wait\u001b[0m\u001b[0;34m(\u001b[0m\u001b[0;34m)\u001b[0m\u001b[0;34m\u001b[0m\u001b[0;34m\u001b[0m\u001b[0m\n",
            "\u001b[0;32m/usr/local/lib/python3.10/dist-packages/tensorflow/python/util/traceback_utils.py\u001b[0m in \u001b[0;36merror_handler\u001b[0;34m(*args, **kwargs)\u001b[0m\n\u001b[1;32m    148\u001b[0m     \u001b[0mfiltered_tb\u001b[0m \u001b[0;34m=\u001b[0m \u001b[0;32mNone\u001b[0m\u001b[0;34m\u001b[0m\u001b[0;34m\u001b[0m\u001b[0m\n\u001b[1;32m    149\u001b[0m     \u001b[0;32mtry\u001b[0m\u001b[0;34m:\u001b[0m\u001b[0;34m\u001b[0m\u001b[0;34m\u001b[0m\u001b[0m\n\u001b[0;32m--> 150\u001b[0;31m       \u001b[0;32mreturn\u001b[0m \u001b[0mfn\u001b[0m\u001b[0;34m(\u001b[0m\u001b[0;34m*\u001b[0m\u001b[0margs\u001b[0m\u001b[0;34m,\u001b[0m \u001b[0;34m**\u001b[0m\u001b[0mkwargs\u001b[0m\u001b[0;34m)\u001b[0m\u001b[0;34m\u001b[0m\u001b[0;34m\u001b[0m\u001b[0m\n\u001b[0m\u001b[1;32m    151\u001b[0m     \u001b[0;32mexcept\u001b[0m \u001b[0mException\u001b[0m \u001b[0;32mas\u001b[0m \u001b[0me\u001b[0m\u001b[0;34m:\u001b[0m\u001b[0;34m\u001b[0m\u001b[0;34m\u001b[0m\u001b[0m\n\u001b[1;32m    152\u001b[0m       \u001b[0mfiltered_tb\u001b[0m \u001b[0;34m=\u001b[0m \u001b[0m_process_traceback_frames\u001b[0m\u001b[0;34m(\u001b[0m\u001b[0me\u001b[0m\u001b[0;34m.\u001b[0m\u001b[0m__traceback__\u001b[0m\u001b[0;34m)\u001b[0m\u001b[0;34m\u001b[0m\u001b[0;34m\u001b[0m\u001b[0m\n",
            "\u001b[0;32m/usr/local/lib/python3.10/dist-packages/tensorflow/python/eager/polymorphic_function/polymorphic_function.py\u001b[0m in \u001b[0;36m__call__\u001b[0;34m(self, *args, **kwds)\u001b[0m\n\u001b[1;32m    892\u001b[0m \u001b[0;34m\u001b[0m\u001b[0m\n\u001b[1;32m    893\u001b[0m       \u001b[0;32mwith\u001b[0m \u001b[0mOptionalXlaContext\u001b[0m\u001b[0;34m(\u001b[0m\u001b[0mself\u001b[0m\u001b[0;34m.\u001b[0m\u001b[0m_jit_compile\u001b[0m\u001b[0;34m)\u001b[0m\u001b[0;34m:\u001b[0m\u001b[0;34m\u001b[0m\u001b[0;34m\u001b[0m\u001b[0m\n\u001b[0;32m--> 894\u001b[0;31m         \u001b[0mresult\u001b[0m \u001b[0;34m=\u001b[0m \u001b[0mself\u001b[0m\u001b[0;34m.\u001b[0m\u001b[0m_call\u001b[0m\u001b[0;34m(\u001b[0m\u001b[0;34m*\u001b[0m\u001b[0margs\u001b[0m\u001b[0;34m,\u001b[0m \u001b[0;34m**\u001b[0m\u001b[0mkwds\u001b[0m\u001b[0;34m)\u001b[0m\u001b[0;34m\u001b[0m\u001b[0;34m\u001b[0m\u001b[0m\n\u001b[0m\u001b[1;32m    895\u001b[0m \u001b[0;34m\u001b[0m\u001b[0m\n\u001b[1;32m    896\u001b[0m       \u001b[0mnew_tracing_count\u001b[0m \u001b[0;34m=\u001b[0m \u001b[0mself\u001b[0m\u001b[0;34m.\u001b[0m\u001b[0mexperimental_get_tracing_count\u001b[0m\u001b[0;34m(\u001b[0m\u001b[0;34m)\u001b[0m\u001b[0;34m\u001b[0m\u001b[0;34m\u001b[0m\u001b[0m\n",
            "\u001b[0;32m/usr/local/lib/python3.10/dist-packages/tensorflow/python/eager/polymorphic_function/polymorphic_function.py\u001b[0m in \u001b[0;36m_call\u001b[0;34m(self, *args, **kwds)\u001b[0m\n\u001b[1;32m    924\u001b[0m       \u001b[0;31m# In this case we have created variables on the first call, so we run the\u001b[0m\u001b[0;34m\u001b[0m\u001b[0;34m\u001b[0m\u001b[0m\n\u001b[1;32m    925\u001b[0m       \u001b[0;31m# defunned version which is guaranteed to never create variables.\u001b[0m\u001b[0;34m\u001b[0m\u001b[0;34m\u001b[0m\u001b[0m\n\u001b[0;32m--> 926\u001b[0;31m       \u001b[0;32mreturn\u001b[0m \u001b[0mself\u001b[0m\u001b[0;34m.\u001b[0m\u001b[0m_no_variable_creation_fn\u001b[0m\u001b[0;34m(\u001b[0m\u001b[0;34m*\u001b[0m\u001b[0margs\u001b[0m\u001b[0;34m,\u001b[0m \u001b[0;34m**\u001b[0m\u001b[0mkwds\u001b[0m\u001b[0;34m)\u001b[0m  \u001b[0;31m# pylint: disable=not-callable\u001b[0m\u001b[0;34m\u001b[0m\u001b[0;34m\u001b[0m\u001b[0m\n\u001b[0m\u001b[1;32m    927\u001b[0m     \u001b[0;32melif\u001b[0m \u001b[0mself\u001b[0m\u001b[0;34m.\u001b[0m\u001b[0m_variable_creation_fn\u001b[0m \u001b[0;32mis\u001b[0m \u001b[0;32mnot\u001b[0m \u001b[0;32mNone\u001b[0m\u001b[0;34m:\u001b[0m\u001b[0;34m\u001b[0m\u001b[0;34m\u001b[0m\u001b[0m\n\u001b[1;32m    928\u001b[0m       \u001b[0;31m# Release the lock early so that multiple threads can perform the call\u001b[0m\u001b[0;34m\u001b[0m\u001b[0;34m\u001b[0m\u001b[0m\n",
            "\u001b[0;32m/usr/local/lib/python3.10/dist-packages/tensorflow/python/eager/polymorphic_function/tracing_compiler.py\u001b[0m in \u001b[0;36m__call__\u001b[0;34m(self, *args, **kwargs)\u001b[0m\n\u001b[1;32m    141\u001b[0m       (concrete_function,\n\u001b[1;32m    142\u001b[0m        filtered_flat_args) = self._maybe_define_function(args, kwargs)\n\u001b[0;32m--> 143\u001b[0;31m     return concrete_function._call_flat(\n\u001b[0m\u001b[1;32m    144\u001b[0m         filtered_flat_args, captured_inputs=concrete_function.captured_inputs)  # pylint: disable=protected-access\n\u001b[1;32m    145\u001b[0m \u001b[0;34m\u001b[0m\u001b[0m\n",
            "\u001b[0;32m/usr/local/lib/python3.10/dist-packages/tensorflow/python/eager/polymorphic_function/monomorphic_function.py\u001b[0m in \u001b[0;36m_call_flat\u001b[0;34m(self, args, captured_inputs, cancellation_manager)\u001b[0m\n\u001b[1;32m   1755\u001b[0m         and executing_eagerly):\n\u001b[1;32m   1756\u001b[0m       \u001b[0;31m# No tape is watching; skip to running the function.\u001b[0m\u001b[0;34m\u001b[0m\u001b[0;34m\u001b[0m\u001b[0m\n\u001b[0;32m-> 1757\u001b[0;31m       return self._build_call_outputs(self._inference_function.call(\n\u001b[0m\u001b[1;32m   1758\u001b[0m           ctx, args, cancellation_manager=cancellation_manager))\n\u001b[1;32m   1759\u001b[0m     forward_backward = self._select_forward_and_backward_functions(\n",
            "\u001b[0;32m/usr/local/lib/python3.10/dist-packages/tensorflow/python/eager/polymorphic_function/monomorphic_function.py\u001b[0m in \u001b[0;36mcall\u001b[0;34m(self, ctx, args, cancellation_manager)\u001b[0m\n\u001b[1;32m    379\u001b[0m       \u001b[0;32mwith\u001b[0m \u001b[0m_InterpolateFunctionError\u001b[0m\u001b[0;34m(\u001b[0m\u001b[0mself\u001b[0m\u001b[0;34m)\u001b[0m\u001b[0;34m:\u001b[0m\u001b[0;34m\u001b[0m\u001b[0;34m\u001b[0m\u001b[0m\n\u001b[1;32m    380\u001b[0m         \u001b[0;32mif\u001b[0m \u001b[0mcancellation_manager\u001b[0m \u001b[0;32mis\u001b[0m \u001b[0;32mNone\u001b[0m\u001b[0;34m:\u001b[0m\u001b[0;34m\u001b[0m\u001b[0;34m\u001b[0m\u001b[0m\n\u001b[0;32m--> 381\u001b[0;31m           outputs = execute.execute(\n\u001b[0m\u001b[1;32m    382\u001b[0m               \u001b[0mstr\u001b[0m\u001b[0;34m(\u001b[0m\u001b[0mself\u001b[0m\u001b[0;34m.\u001b[0m\u001b[0msignature\u001b[0m\u001b[0;34m.\u001b[0m\u001b[0mname\u001b[0m\u001b[0;34m)\u001b[0m\u001b[0;34m,\u001b[0m\u001b[0;34m\u001b[0m\u001b[0;34m\u001b[0m\u001b[0m\n\u001b[1;32m    383\u001b[0m               \u001b[0mnum_outputs\u001b[0m\u001b[0;34m=\u001b[0m\u001b[0mself\u001b[0m\u001b[0;34m.\u001b[0m\u001b[0m_num_outputs\u001b[0m\u001b[0;34m,\u001b[0m\u001b[0;34m\u001b[0m\u001b[0;34m\u001b[0m\u001b[0m\n",
            "\u001b[0;32m/usr/local/lib/python3.10/dist-packages/tensorflow/python/eager/execute.py\u001b[0m in \u001b[0;36mquick_execute\u001b[0;34m(op_name, num_outputs, inputs, attrs, ctx, name)\u001b[0m\n\u001b[1;32m     50\u001b[0m   \u001b[0;32mtry\u001b[0m\u001b[0;34m:\u001b[0m\u001b[0;34m\u001b[0m\u001b[0;34m\u001b[0m\u001b[0m\n\u001b[1;32m     51\u001b[0m     \u001b[0mctx\u001b[0m\u001b[0;34m.\u001b[0m\u001b[0mensure_initialized\u001b[0m\u001b[0;34m(\u001b[0m\u001b[0;34m)\u001b[0m\u001b[0;34m\u001b[0m\u001b[0;34m\u001b[0m\u001b[0m\n\u001b[0;32m---> 52\u001b[0;31m     tensors = pywrap_tfe.TFE_Py_Execute(ctx._handle, device_name, op_name,\n\u001b[0m\u001b[1;32m     53\u001b[0m                                         inputs, attrs, num_outputs)\n\u001b[1;32m     54\u001b[0m   \u001b[0;32mexcept\u001b[0m \u001b[0mcore\u001b[0m\u001b[0;34m.\u001b[0m\u001b[0m_NotOkStatusException\u001b[0m \u001b[0;32mas\u001b[0m \u001b[0me\u001b[0m\u001b[0;34m:\u001b[0m\u001b[0;34m\u001b[0m\u001b[0;34m\u001b[0m\u001b[0m\n",
            "\u001b[0;31mKeyboardInterrupt\u001b[0m: "
          ]
        }
      ]
    },
    {
      "cell_type": "code",
      "source": [
        "from tensorflow.keras.applications.vgg16 import VGG16\n",
        "## Loading VGG16 model\n",
        "base_model = VGG16(weights=\"imagenet\", include_top=False,input_shape=(224,224,3))\n",
        "base_model.trainable = False ## Not trainable weights\n",
        "base_model.summary()\n"
      ],
      "metadata": {
        "colab": {
          "base_uri": "https://localhost:8080/"
        },
        "id": "jvECPrXG2uD-",
        "outputId": "5005b6ef-7bbc-4432-834a-c80670f6ad85"
      },
      "execution_count": 66,
      "outputs": [
        {
          "output_type": "stream",
          "name": "stdout",
          "text": [
            "Model: \"vgg16\"\n",
            "_________________________________________________________________\n",
            " Layer (type)                Output Shape              Param #   \n",
            "=================================================================\n",
            " input_2 (InputLayer)        [(None, 224, 224, 3)]     0         \n",
            "                                                                 \n",
            " block1_conv1 (Conv2D)       (None, 224, 224, 64)      1792      \n",
            "                                                                 \n",
            " block1_conv2 (Conv2D)       (None, 224, 224, 64)      36928     \n",
            "                                                                 \n",
            " block1_pool (MaxPooling2D)  (None, 112, 112, 64)      0         \n",
            "                                                                 \n",
            " block2_conv1 (Conv2D)       (None, 112, 112, 128)     73856     \n",
            "                                                                 \n",
            " block2_conv2 (Conv2D)       (None, 112, 112, 128)     147584    \n",
            "                                                                 \n",
            " block2_pool (MaxPooling2D)  (None, 56, 56, 128)       0         \n",
            "                                                                 \n",
            " block3_conv1 (Conv2D)       (None, 56, 56, 256)       295168    \n",
            "                                                                 \n",
            " block3_conv2 (Conv2D)       (None, 56, 56, 256)       590080    \n",
            "                                                                 \n",
            " block3_conv3 (Conv2D)       (None, 56, 56, 256)       590080    \n",
            "                                                                 \n",
            " block3_pool (MaxPooling2D)  (None, 28, 28, 256)       0         \n",
            "                                                                 \n",
            " block4_conv1 (Conv2D)       (None, 28, 28, 512)       1180160   \n",
            "                                                                 \n",
            " block4_conv2 (Conv2D)       (None, 28, 28, 512)       2359808   \n",
            "                                                                 \n",
            " block4_conv3 (Conv2D)       (None, 28, 28, 512)       2359808   \n",
            "                                                                 \n",
            " block4_pool (MaxPooling2D)  (None, 14, 14, 512)       0         \n",
            "                                                                 \n",
            " block5_conv1 (Conv2D)       (None, 14, 14, 512)       2359808   \n",
            "                                                                 \n",
            " block5_conv2 (Conv2D)       (None, 14, 14, 512)       2359808   \n",
            "                                                                 \n",
            " block5_conv3 (Conv2D)       (None, 14, 14, 512)       2359808   \n",
            "                                                                 \n",
            " block5_pool (MaxPooling2D)  (None, 7, 7, 512)         0         \n",
            "                                                                 \n",
            "=================================================================\n",
            "Total params: 14,714,688\n",
            "Trainable params: 0\n",
            "Non-trainable params: 14,714,688\n",
            "_________________________________________________________________\n"
          ]
        }
      ]
    },
    {
      "cell_type": "code",
      "source": [
        "num_of_classes = 21\n",
        "import tensorflow as tf\n",
        "model_VGG = tf.keras.Sequential([\n",
        "    base_model,\n",
        "    tf.keras.layers.Flatten(),\n",
        "    tf.keras.layers.Dense(num_of_classes, activation='relu'),\n",
        "    tf.keras.layers.Dropout(0.5),\n",
        "    tf.keras.layers.Dense(1, activation='sigmoid')  # Using sigmoid activation for binary classification\n",
        "])\n"
      ],
      "metadata": {
        "id": "2KnrSgmG24In"
      },
      "execution_count": 67,
      "outputs": []
    },
    {
      "cell_type": "code",
      "source": [
        "model_VGG.compile(\n",
        "    optimizer='adam',\n",
        "    loss='binary_crossentropy',  # Using binary cross-entropy for binary classification\n",
        "    metrics=['accuracy']  # 'acc' has been changed to 'accuracy'\n",
        ")"
      ],
      "metadata": {
        "id": "KzOtu_H427lR"
      },
      "execution_count": 68,
      "outputs": []
    },
    {
      "cell_type": "code",
      "source": [
        "model_VGG.fit(x_train, y_train, epochs=5)"
      ],
      "metadata": {
        "colab": {
          "base_uri": "https://localhost:8080/",
          "height": 397
        },
        "id": "3TtSpRm_28Oo",
        "outputId": "3ea40403-3f4d-42a1-da75-c1f0702b134f"
      },
      "execution_count": 69,
      "outputs": [
        {
          "output_type": "stream",
          "name": "stdout",
          "text": [
            "Epoch 1/5\n",
            "370/370 [==============================] - 4666s 13s/step - loss: -0.0169 - accuracy: 0.0476\n",
            "Epoch 2/5\n",
            "259/370 [====================>.........] - ETA: 23:11 - loss: -0.9629 - accuracy: 0.0490"
          ]
        },
        {
          "output_type": "error",
          "ename": "KeyboardInterrupt",
          "evalue": "ignored",
          "traceback": [
            "\u001b[0;31m---------------------------------------------------------------------------\u001b[0m",
            "\u001b[0;31mKeyboardInterrupt\u001b[0m                         Traceback (most recent call last)",
            "\u001b[0;32m<ipython-input-69-93bfa378cafb>\u001b[0m in \u001b[0;36m<cell line: 1>\u001b[0;34m()\u001b[0m\n\u001b[0;32m----> 1\u001b[0;31m \u001b[0mmodel_VGG\u001b[0m\u001b[0;34m.\u001b[0m\u001b[0mfit\u001b[0m\u001b[0;34m(\u001b[0m\u001b[0mx_train\u001b[0m\u001b[0;34m,\u001b[0m \u001b[0my_train\u001b[0m\u001b[0;34m,\u001b[0m \u001b[0mepochs\u001b[0m\u001b[0;34m=\u001b[0m\u001b[0;36m5\u001b[0m\u001b[0;34m)\u001b[0m\u001b[0;34m\u001b[0m\u001b[0;34m\u001b[0m\u001b[0m\n\u001b[0m",
            "\u001b[0;32m/usr/local/lib/python3.10/dist-packages/keras/utils/traceback_utils.py\u001b[0m in \u001b[0;36merror_handler\u001b[0;34m(*args, **kwargs)\u001b[0m\n\u001b[1;32m     63\u001b[0m         \u001b[0mfiltered_tb\u001b[0m \u001b[0;34m=\u001b[0m \u001b[0;32mNone\u001b[0m\u001b[0;34m\u001b[0m\u001b[0;34m\u001b[0m\u001b[0m\n\u001b[1;32m     64\u001b[0m         \u001b[0;32mtry\u001b[0m\u001b[0;34m:\u001b[0m\u001b[0;34m\u001b[0m\u001b[0;34m\u001b[0m\u001b[0m\n\u001b[0;32m---> 65\u001b[0;31m             \u001b[0;32mreturn\u001b[0m \u001b[0mfn\u001b[0m\u001b[0;34m(\u001b[0m\u001b[0;34m*\u001b[0m\u001b[0margs\u001b[0m\u001b[0;34m,\u001b[0m \u001b[0;34m**\u001b[0m\u001b[0mkwargs\u001b[0m\u001b[0;34m)\u001b[0m\u001b[0;34m\u001b[0m\u001b[0;34m\u001b[0m\u001b[0m\n\u001b[0m\u001b[1;32m     66\u001b[0m         \u001b[0;32mexcept\u001b[0m \u001b[0mException\u001b[0m \u001b[0;32mas\u001b[0m \u001b[0me\u001b[0m\u001b[0;34m:\u001b[0m\u001b[0;34m\u001b[0m\u001b[0;34m\u001b[0m\u001b[0m\n\u001b[1;32m     67\u001b[0m             \u001b[0mfiltered_tb\u001b[0m \u001b[0;34m=\u001b[0m \u001b[0m_process_traceback_frames\u001b[0m\u001b[0;34m(\u001b[0m\u001b[0me\u001b[0m\u001b[0;34m.\u001b[0m\u001b[0m__traceback__\u001b[0m\u001b[0;34m)\u001b[0m\u001b[0;34m\u001b[0m\u001b[0;34m\u001b[0m\u001b[0m\n",
            "\u001b[0;32m/usr/local/lib/python3.10/dist-packages/keras/engine/training.py\u001b[0m in \u001b[0;36mfit\u001b[0;34m(self, x, y, batch_size, epochs, verbose, callbacks, validation_split, validation_data, shuffle, class_weight, sample_weight, initial_epoch, steps_per_epoch, validation_steps, validation_batch_size, validation_freq, max_queue_size, workers, use_multiprocessing)\u001b[0m\n\u001b[1;32m   1683\u001b[0m                         ):\n\u001b[1;32m   1684\u001b[0m                             \u001b[0mcallbacks\u001b[0m\u001b[0;34m.\u001b[0m\u001b[0mon_train_batch_begin\u001b[0m\u001b[0;34m(\u001b[0m\u001b[0mstep\u001b[0m\u001b[0;34m)\u001b[0m\u001b[0;34m\u001b[0m\u001b[0;34m\u001b[0m\u001b[0m\n\u001b[0;32m-> 1685\u001b[0;31m                             \u001b[0mtmp_logs\u001b[0m \u001b[0;34m=\u001b[0m \u001b[0mself\u001b[0m\u001b[0;34m.\u001b[0m\u001b[0mtrain_function\u001b[0m\u001b[0;34m(\u001b[0m\u001b[0miterator\u001b[0m\u001b[0;34m)\u001b[0m\u001b[0;34m\u001b[0m\u001b[0;34m\u001b[0m\u001b[0m\n\u001b[0m\u001b[1;32m   1686\u001b[0m                             \u001b[0;32mif\u001b[0m \u001b[0mdata_handler\u001b[0m\u001b[0;34m.\u001b[0m\u001b[0mshould_sync\u001b[0m\u001b[0;34m:\u001b[0m\u001b[0;34m\u001b[0m\u001b[0;34m\u001b[0m\u001b[0m\n\u001b[1;32m   1687\u001b[0m                                 \u001b[0mcontext\u001b[0m\u001b[0;34m.\u001b[0m\u001b[0masync_wait\u001b[0m\u001b[0;34m(\u001b[0m\u001b[0;34m)\u001b[0m\u001b[0;34m\u001b[0m\u001b[0;34m\u001b[0m\u001b[0m\n",
            "\u001b[0;32m/usr/local/lib/python3.10/dist-packages/tensorflow/python/util/traceback_utils.py\u001b[0m in \u001b[0;36merror_handler\u001b[0;34m(*args, **kwargs)\u001b[0m\n\u001b[1;32m    148\u001b[0m     \u001b[0mfiltered_tb\u001b[0m \u001b[0;34m=\u001b[0m \u001b[0;32mNone\u001b[0m\u001b[0;34m\u001b[0m\u001b[0;34m\u001b[0m\u001b[0m\n\u001b[1;32m    149\u001b[0m     \u001b[0;32mtry\u001b[0m\u001b[0;34m:\u001b[0m\u001b[0;34m\u001b[0m\u001b[0;34m\u001b[0m\u001b[0m\n\u001b[0;32m--> 150\u001b[0;31m       \u001b[0;32mreturn\u001b[0m \u001b[0mfn\u001b[0m\u001b[0;34m(\u001b[0m\u001b[0;34m*\u001b[0m\u001b[0margs\u001b[0m\u001b[0;34m,\u001b[0m \u001b[0;34m**\u001b[0m\u001b[0mkwargs\u001b[0m\u001b[0;34m)\u001b[0m\u001b[0;34m\u001b[0m\u001b[0;34m\u001b[0m\u001b[0m\n\u001b[0m\u001b[1;32m    151\u001b[0m     \u001b[0;32mexcept\u001b[0m \u001b[0mException\u001b[0m \u001b[0;32mas\u001b[0m \u001b[0me\u001b[0m\u001b[0;34m:\u001b[0m\u001b[0;34m\u001b[0m\u001b[0;34m\u001b[0m\u001b[0m\n\u001b[1;32m    152\u001b[0m       \u001b[0mfiltered_tb\u001b[0m \u001b[0;34m=\u001b[0m \u001b[0m_process_traceback_frames\u001b[0m\u001b[0;34m(\u001b[0m\u001b[0me\u001b[0m\u001b[0;34m.\u001b[0m\u001b[0m__traceback__\u001b[0m\u001b[0;34m)\u001b[0m\u001b[0;34m\u001b[0m\u001b[0;34m\u001b[0m\u001b[0m\n",
            "\u001b[0;32m/usr/local/lib/python3.10/dist-packages/tensorflow/python/eager/polymorphic_function/polymorphic_function.py\u001b[0m in \u001b[0;36m__call__\u001b[0;34m(self, *args, **kwds)\u001b[0m\n\u001b[1;32m    892\u001b[0m \u001b[0;34m\u001b[0m\u001b[0m\n\u001b[1;32m    893\u001b[0m       \u001b[0;32mwith\u001b[0m \u001b[0mOptionalXlaContext\u001b[0m\u001b[0;34m(\u001b[0m\u001b[0mself\u001b[0m\u001b[0;34m.\u001b[0m\u001b[0m_jit_compile\u001b[0m\u001b[0;34m)\u001b[0m\u001b[0;34m:\u001b[0m\u001b[0;34m\u001b[0m\u001b[0;34m\u001b[0m\u001b[0m\n\u001b[0;32m--> 894\u001b[0;31m         \u001b[0mresult\u001b[0m \u001b[0;34m=\u001b[0m \u001b[0mself\u001b[0m\u001b[0;34m.\u001b[0m\u001b[0m_call\u001b[0m\u001b[0;34m(\u001b[0m\u001b[0;34m*\u001b[0m\u001b[0margs\u001b[0m\u001b[0;34m,\u001b[0m \u001b[0;34m**\u001b[0m\u001b[0mkwds\u001b[0m\u001b[0;34m)\u001b[0m\u001b[0;34m\u001b[0m\u001b[0;34m\u001b[0m\u001b[0m\n\u001b[0m\u001b[1;32m    895\u001b[0m \u001b[0;34m\u001b[0m\u001b[0m\n\u001b[1;32m    896\u001b[0m       \u001b[0mnew_tracing_count\u001b[0m \u001b[0;34m=\u001b[0m \u001b[0mself\u001b[0m\u001b[0;34m.\u001b[0m\u001b[0mexperimental_get_tracing_count\u001b[0m\u001b[0;34m(\u001b[0m\u001b[0;34m)\u001b[0m\u001b[0;34m\u001b[0m\u001b[0;34m\u001b[0m\u001b[0m\n",
            "\u001b[0;32m/usr/local/lib/python3.10/dist-packages/tensorflow/python/eager/polymorphic_function/polymorphic_function.py\u001b[0m in \u001b[0;36m_call\u001b[0;34m(self, *args, **kwds)\u001b[0m\n\u001b[1;32m    924\u001b[0m       \u001b[0;31m# In this case we have created variables on the first call, so we run the\u001b[0m\u001b[0;34m\u001b[0m\u001b[0;34m\u001b[0m\u001b[0m\n\u001b[1;32m    925\u001b[0m       \u001b[0;31m# defunned version which is guaranteed to never create variables.\u001b[0m\u001b[0;34m\u001b[0m\u001b[0;34m\u001b[0m\u001b[0m\n\u001b[0;32m--> 926\u001b[0;31m       \u001b[0;32mreturn\u001b[0m \u001b[0mself\u001b[0m\u001b[0;34m.\u001b[0m\u001b[0m_no_variable_creation_fn\u001b[0m\u001b[0;34m(\u001b[0m\u001b[0;34m*\u001b[0m\u001b[0margs\u001b[0m\u001b[0;34m,\u001b[0m \u001b[0;34m**\u001b[0m\u001b[0mkwds\u001b[0m\u001b[0;34m)\u001b[0m  \u001b[0;31m# pylint: disable=not-callable\u001b[0m\u001b[0;34m\u001b[0m\u001b[0;34m\u001b[0m\u001b[0m\n\u001b[0m\u001b[1;32m    927\u001b[0m     \u001b[0;32melif\u001b[0m \u001b[0mself\u001b[0m\u001b[0;34m.\u001b[0m\u001b[0m_variable_creation_fn\u001b[0m \u001b[0;32mis\u001b[0m \u001b[0;32mnot\u001b[0m \u001b[0;32mNone\u001b[0m\u001b[0;34m:\u001b[0m\u001b[0;34m\u001b[0m\u001b[0;34m\u001b[0m\u001b[0m\n\u001b[1;32m    928\u001b[0m       \u001b[0;31m# Release the lock early so that multiple threads can perform the call\u001b[0m\u001b[0;34m\u001b[0m\u001b[0;34m\u001b[0m\u001b[0m\n",
            "\u001b[0;32m/usr/local/lib/python3.10/dist-packages/tensorflow/python/eager/polymorphic_function/tracing_compiler.py\u001b[0m in \u001b[0;36m__call__\u001b[0;34m(self, *args, **kwargs)\u001b[0m\n\u001b[1;32m    141\u001b[0m       (concrete_function,\n\u001b[1;32m    142\u001b[0m        filtered_flat_args) = self._maybe_define_function(args, kwargs)\n\u001b[0;32m--> 143\u001b[0;31m     return concrete_function._call_flat(\n\u001b[0m\u001b[1;32m    144\u001b[0m         filtered_flat_args, captured_inputs=concrete_function.captured_inputs)  # pylint: disable=protected-access\n\u001b[1;32m    145\u001b[0m \u001b[0;34m\u001b[0m\u001b[0m\n",
            "\u001b[0;32m/usr/local/lib/python3.10/dist-packages/tensorflow/python/eager/polymorphic_function/monomorphic_function.py\u001b[0m in \u001b[0;36m_call_flat\u001b[0;34m(self, args, captured_inputs, cancellation_manager)\u001b[0m\n\u001b[1;32m   1755\u001b[0m         and executing_eagerly):\n\u001b[1;32m   1756\u001b[0m       \u001b[0;31m# No tape is watching; skip to running the function.\u001b[0m\u001b[0;34m\u001b[0m\u001b[0;34m\u001b[0m\u001b[0m\n\u001b[0;32m-> 1757\u001b[0;31m       return self._build_call_outputs(self._inference_function.call(\n\u001b[0m\u001b[1;32m   1758\u001b[0m           ctx, args, cancellation_manager=cancellation_manager))\n\u001b[1;32m   1759\u001b[0m     forward_backward = self._select_forward_and_backward_functions(\n",
            "\u001b[0;32m/usr/local/lib/python3.10/dist-packages/tensorflow/python/eager/polymorphic_function/monomorphic_function.py\u001b[0m in \u001b[0;36mcall\u001b[0;34m(self, ctx, args, cancellation_manager)\u001b[0m\n\u001b[1;32m    379\u001b[0m       \u001b[0;32mwith\u001b[0m \u001b[0m_InterpolateFunctionError\u001b[0m\u001b[0;34m(\u001b[0m\u001b[0mself\u001b[0m\u001b[0;34m)\u001b[0m\u001b[0;34m:\u001b[0m\u001b[0;34m\u001b[0m\u001b[0;34m\u001b[0m\u001b[0m\n\u001b[1;32m    380\u001b[0m         \u001b[0;32mif\u001b[0m \u001b[0mcancellation_manager\u001b[0m \u001b[0;32mis\u001b[0m \u001b[0;32mNone\u001b[0m\u001b[0;34m:\u001b[0m\u001b[0;34m\u001b[0m\u001b[0;34m\u001b[0m\u001b[0m\n\u001b[0;32m--> 381\u001b[0;31m           outputs = execute.execute(\n\u001b[0m\u001b[1;32m    382\u001b[0m               \u001b[0mstr\u001b[0m\u001b[0;34m(\u001b[0m\u001b[0mself\u001b[0m\u001b[0;34m.\u001b[0m\u001b[0msignature\u001b[0m\u001b[0;34m.\u001b[0m\u001b[0mname\u001b[0m\u001b[0;34m)\u001b[0m\u001b[0;34m,\u001b[0m\u001b[0;34m\u001b[0m\u001b[0;34m\u001b[0m\u001b[0m\n\u001b[1;32m    383\u001b[0m               \u001b[0mnum_outputs\u001b[0m\u001b[0;34m=\u001b[0m\u001b[0mself\u001b[0m\u001b[0;34m.\u001b[0m\u001b[0m_num_outputs\u001b[0m\u001b[0;34m,\u001b[0m\u001b[0;34m\u001b[0m\u001b[0;34m\u001b[0m\u001b[0m\n",
            "\u001b[0;32m/usr/local/lib/python3.10/dist-packages/tensorflow/python/eager/execute.py\u001b[0m in \u001b[0;36mquick_execute\u001b[0;34m(op_name, num_outputs, inputs, attrs, ctx, name)\u001b[0m\n\u001b[1;32m     50\u001b[0m   \u001b[0;32mtry\u001b[0m\u001b[0;34m:\u001b[0m\u001b[0;34m\u001b[0m\u001b[0;34m\u001b[0m\u001b[0m\n\u001b[1;32m     51\u001b[0m     \u001b[0mctx\u001b[0m\u001b[0;34m.\u001b[0m\u001b[0mensure_initialized\u001b[0m\u001b[0;34m(\u001b[0m\u001b[0;34m)\u001b[0m\u001b[0;34m\u001b[0m\u001b[0;34m\u001b[0m\u001b[0m\n\u001b[0;32m---> 52\u001b[0;31m     tensors = pywrap_tfe.TFE_Py_Execute(ctx._handle, device_name, op_name,\n\u001b[0m\u001b[1;32m     53\u001b[0m                                         inputs, attrs, num_outputs)\n\u001b[1;32m     54\u001b[0m   \u001b[0;32mexcept\u001b[0m \u001b[0mcore\u001b[0m\u001b[0;34m.\u001b[0m\u001b[0m_NotOkStatusException\u001b[0m \u001b[0;32mas\u001b[0m \u001b[0me\u001b[0m\u001b[0;34m:\u001b[0m\u001b[0;34m\u001b[0m\u001b[0;34m\u001b[0m\u001b[0m\n",
            "\u001b[0;31mKeyboardInterrupt\u001b[0m: "
          ]
        }
      ]
    }
  ]
}